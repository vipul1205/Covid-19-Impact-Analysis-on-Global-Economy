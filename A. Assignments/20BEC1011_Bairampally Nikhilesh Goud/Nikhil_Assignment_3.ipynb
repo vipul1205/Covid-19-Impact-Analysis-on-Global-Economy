{
  "cells": [
    {
      "cell_type": "markdown",
      "id": "48fef136",
      "metadata": {
        "id": "48fef136"
      },
      "source": [
        "# ADS Assignment-3"
      ]
    },
    {
      "cell_type": "markdown",
      "id": "952bf933",
      "metadata": {
        "id": "952bf933"
      },
      "source": [
        "\n",
        "\n",
        "```\n",
        "# This is formatted as code\n",
        "```\n",
        "\n",
        "### Nikhilesh Goud\n",
        "### 20BEC1011"
      ]
    },
    {
      "cell_type": "code",
      "execution_count": 22,
      "id": "cde1bfe3",
      "metadata": {
        "id": "cde1bfe3"
      },
      "outputs": [],
      "source": [
        "import numpy as np\n",
        "import pandas as pd\n",
        "import matplotlib.pyplot as plt\n",
        "from sklearn.model_selection import train_test_split\n",
        "import seaborn as sns\n",
        "from sklearn.preprocessing import StandardScaler"
      ]
    },
    {
      "cell_type": "code",
      "execution_count": 2,
      "id": "a531a606",
      "metadata": {
        "colab": {
          "base_uri": "https://localhost:8080/",
          "height": 424
        },
        "id": "a531a606",
        "outputId": "b9515b24-828d-443b-c1d2-56480c98489b"
      },
      "outputs": [
        {
          "output_type": "execute_result",
          "data": {
            "text/plain": [
              "        price  area  bedrooms  bathrooms  stories mainroad guestroom basement  \\\n",
              "0    13300000  7420         4          2        3      yes        no       no   \n",
              "1    12250000  8960         4          4        4      yes        no       no   \n",
              "2    12250000  9960         3          2        2      yes        no      yes   \n",
              "3    12215000  7500         4          2        2      yes        no      yes   \n",
              "4    11410000  7420         4          1        2      yes       yes      yes   \n",
              "..        ...   ...       ...        ...      ...      ...       ...      ...   \n",
              "540   1820000  3000         2          1        1      yes        no      yes   \n",
              "541   1767150  2400         3          1        1       no        no       no   \n",
              "542   1750000  3620         2          1        1      yes        no       no   \n",
              "543   1750000  2910         3          1        1       no        no       no   \n",
              "544   1750000  3850         3          1        2      yes        no       no   \n",
              "\n",
              "    hotwaterheating airconditioning  parking furnishingstatus  \n",
              "0                no             yes        2        furnished  \n",
              "1                no             yes        3        furnished  \n",
              "2                no              no        2   semi-furnished  \n",
              "3                no             yes        3        furnished  \n",
              "4                no             yes        2        furnished  \n",
              "..              ...             ...      ...              ...  \n",
              "540              no              no        2      unfurnished  \n",
              "541              no              no        0   semi-furnished  \n",
              "542              no              no        0      unfurnished  \n",
              "543              no              no        0        furnished  \n",
              "544              no              no        0      unfurnished  \n",
              "\n",
              "[545 rows x 12 columns]"
            ],
            "text/html": [
              "\n",
              "  <div id=\"df-b8fb8d81-09e5-4ddf-9243-50fdbe4b88d3\">\n",
              "    <div class=\"colab-df-container\">\n",
              "      <div>\n",
              "<style scoped>\n",
              "    .dataframe tbody tr th:only-of-type {\n",
              "        vertical-align: middle;\n",
              "    }\n",
              "\n",
              "    .dataframe tbody tr th {\n",
              "        vertical-align: top;\n",
              "    }\n",
              "\n",
              "    .dataframe thead th {\n",
              "        text-align: right;\n",
              "    }\n",
              "</style>\n",
              "<table border=\"1\" class=\"dataframe\">\n",
              "  <thead>\n",
              "    <tr style=\"text-align: right;\">\n",
              "      <th></th>\n",
              "      <th>price</th>\n",
              "      <th>area</th>\n",
              "      <th>bedrooms</th>\n",
              "      <th>bathrooms</th>\n",
              "      <th>stories</th>\n",
              "      <th>mainroad</th>\n",
              "      <th>guestroom</th>\n",
              "      <th>basement</th>\n",
              "      <th>hotwaterheating</th>\n",
              "      <th>airconditioning</th>\n",
              "      <th>parking</th>\n",
              "      <th>furnishingstatus</th>\n",
              "    </tr>\n",
              "  </thead>\n",
              "  <tbody>\n",
              "    <tr>\n",
              "      <th>0</th>\n",
              "      <td>13300000</td>\n",
              "      <td>7420</td>\n",
              "      <td>4</td>\n",
              "      <td>2</td>\n",
              "      <td>3</td>\n",
              "      <td>yes</td>\n",
              "      <td>no</td>\n",
              "      <td>no</td>\n",
              "      <td>no</td>\n",
              "      <td>yes</td>\n",
              "      <td>2</td>\n",
              "      <td>furnished</td>\n",
              "    </tr>\n",
              "    <tr>\n",
              "      <th>1</th>\n",
              "      <td>12250000</td>\n",
              "      <td>8960</td>\n",
              "      <td>4</td>\n",
              "      <td>4</td>\n",
              "      <td>4</td>\n",
              "      <td>yes</td>\n",
              "      <td>no</td>\n",
              "      <td>no</td>\n",
              "      <td>no</td>\n",
              "      <td>yes</td>\n",
              "      <td>3</td>\n",
              "      <td>furnished</td>\n",
              "    </tr>\n",
              "    <tr>\n",
              "      <th>2</th>\n",
              "      <td>12250000</td>\n",
              "      <td>9960</td>\n",
              "      <td>3</td>\n",
              "      <td>2</td>\n",
              "      <td>2</td>\n",
              "      <td>yes</td>\n",
              "      <td>no</td>\n",
              "      <td>yes</td>\n",
              "      <td>no</td>\n",
              "      <td>no</td>\n",
              "      <td>2</td>\n",
              "      <td>semi-furnished</td>\n",
              "    </tr>\n",
              "    <tr>\n",
              "      <th>3</th>\n",
              "      <td>12215000</td>\n",
              "      <td>7500</td>\n",
              "      <td>4</td>\n",
              "      <td>2</td>\n",
              "      <td>2</td>\n",
              "      <td>yes</td>\n",
              "      <td>no</td>\n",
              "      <td>yes</td>\n",
              "      <td>no</td>\n",
              "      <td>yes</td>\n",
              "      <td>3</td>\n",
              "      <td>furnished</td>\n",
              "    </tr>\n",
              "    <tr>\n",
              "      <th>4</th>\n",
              "      <td>11410000</td>\n",
              "      <td>7420</td>\n",
              "      <td>4</td>\n",
              "      <td>1</td>\n",
              "      <td>2</td>\n",
              "      <td>yes</td>\n",
              "      <td>yes</td>\n",
              "      <td>yes</td>\n",
              "      <td>no</td>\n",
              "      <td>yes</td>\n",
              "      <td>2</td>\n",
              "      <td>furnished</td>\n",
              "    </tr>\n",
              "    <tr>\n",
              "      <th>...</th>\n",
              "      <td>...</td>\n",
              "      <td>...</td>\n",
              "      <td>...</td>\n",
              "      <td>...</td>\n",
              "      <td>...</td>\n",
              "      <td>...</td>\n",
              "      <td>...</td>\n",
              "      <td>...</td>\n",
              "      <td>...</td>\n",
              "      <td>...</td>\n",
              "      <td>...</td>\n",
              "      <td>...</td>\n",
              "    </tr>\n",
              "    <tr>\n",
              "      <th>540</th>\n",
              "      <td>1820000</td>\n",
              "      <td>3000</td>\n",
              "      <td>2</td>\n",
              "      <td>1</td>\n",
              "      <td>1</td>\n",
              "      <td>yes</td>\n",
              "      <td>no</td>\n",
              "      <td>yes</td>\n",
              "      <td>no</td>\n",
              "      <td>no</td>\n",
              "      <td>2</td>\n",
              "      <td>unfurnished</td>\n",
              "    </tr>\n",
              "    <tr>\n",
              "      <th>541</th>\n",
              "      <td>1767150</td>\n",
              "      <td>2400</td>\n",
              "      <td>3</td>\n",
              "      <td>1</td>\n",
              "      <td>1</td>\n",
              "      <td>no</td>\n",
              "      <td>no</td>\n",
              "      <td>no</td>\n",
              "      <td>no</td>\n",
              "      <td>no</td>\n",
              "      <td>0</td>\n",
              "      <td>semi-furnished</td>\n",
              "    </tr>\n",
              "    <tr>\n",
              "      <th>542</th>\n",
              "      <td>1750000</td>\n",
              "      <td>3620</td>\n",
              "      <td>2</td>\n",
              "      <td>1</td>\n",
              "      <td>1</td>\n",
              "      <td>yes</td>\n",
              "      <td>no</td>\n",
              "      <td>no</td>\n",
              "      <td>no</td>\n",
              "      <td>no</td>\n",
              "      <td>0</td>\n",
              "      <td>unfurnished</td>\n",
              "    </tr>\n",
              "    <tr>\n",
              "      <th>543</th>\n",
              "      <td>1750000</td>\n",
              "      <td>2910</td>\n",
              "      <td>3</td>\n",
              "      <td>1</td>\n",
              "      <td>1</td>\n",
              "      <td>no</td>\n",
              "      <td>no</td>\n",
              "      <td>no</td>\n",
              "      <td>no</td>\n",
              "      <td>no</td>\n",
              "      <td>0</td>\n",
              "      <td>furnished</td>\n",
              "    </tr>\n",
              "    <tr>\n",
              "      <th>544</th>\n",
              "      <td>1750000</td>\n",
              "      <td>3850</td>\n",
              "      <td>3</td>\n",
              "      <td>1</td>\n",
              "      <td>2</td>\n",
              "      <td>yes</td>\n",
              "      <td>no</td>\n",
              "      <td>no</td>\n",
              "      <td>no</td>\n",
              "      <td>no</td>\n",
              "      <td>0</td>\n",
              "      <td>unfurnished</td>\n",
              "    </tr>\n",
              "  </tbody>\n",
              "</table>\n",
              "<p>545 rows × 12 columns</p>\n",
              "</div>\n",
              "      <button class=\"colab-df-convert\" onclick=\"convertToInteractive('df-b8fb8d81-09e5-4ddf-9243-50fdbe4b88d3')\"\n",
              "              title=\"Convert this dataframe to an interactive table.\"\n",
              "              style=\"display:none;\">\n",
              "        \n",
              "  <svg xmlns=\"http://www.w3.org/2000/svg\" height=\"24px\"viewBox=\"0 0 24 24\"\n",
              "       width=\"24px\">\n",
              "    <path d=\"M0 0h24v24H0V0z\" fill=\"none\"/>\n",
              "    <path d=\"M18.56 5.44l.94 2.06.94-2.06 2.06-.94-2.06-.94-.94-2.06-.94 2.06-2.06.94zm-11 1L8.5 8.5l.94-2.06 2.06-.94-2.06-.94L8.5 2.5l-.94 2.06-2.06.94zm10 10l.94 2.06.94-2.06 2.06-.94-2.06-.94-.94-2.06-.94 2.06-2.06.94z\"/><path d=\"M17.41 7.96l-1.37-1.37c-.4-.4-.92-.59-1.43-.59-.52 0-1.04.2-1.43.59L10.3 9.45l-7.72 7.72c-.78.78-.78 2.05 0 2.83L4 21.41c.39.39.9.59 1.41.59.51 0 1.02-.2 1.41-.59l7.78-7.78 2.81-2.81c.8-.78.8-2.07 0-2.86zM5.41 20L4 18.59l7.72-7.72 1.47 1.35L5.41 20z\"/>\n",
              "  </svg>\n",
              "      </button>\n",
              "      \n",
              "  <style>\n",
              "    .colab-df-container {\n",
              "      display:flex;\n",
              "      flex-wrap:wrap;\n",
              "      gap: 12px;\n",
              "    }\n",
              "\n",
              "    .colab-df-convert {\n",
              "      background-color: #E8F0FE;\n",
              "      border: none;\n",
              "      border-radius: 50%;\n",
              "      cursor: pointer;\n",
              "      display: none;\n",
              "      fill: #1967D2;\n",
              "      height: 32px;\n",
              "      padding: 0 0 0 0;\n",
              "      width: 32px;\n",
              "    }\n",
              "\n",
              "    .colab-df-convert:hover {\n",
              "      background-color: #E2EBFA;\n",
              "      box-shadow: 0px 1px 2px rgba(60, 64, 67, 0.3), 0px 1px 3px 1px rgba(60, 64, 67, 0.15);\n",
              "      fill: #174EA6;\n",
              "    }\n",
              "\n",
              "    [theme=dark] .colab-df-convert {\n",
              "      background-color: #3B4455;\n",
              "      fill: #D2E3FC;\n",
              "    }\n",
              "\n",
              "    [theme=dark] .colab-df-convert:hover {\n",
              "      background-color: #434B5C;\n",
              "      box-shadow: 0px 1px 3px 1px rgba(0, 0, 0, 0.15);\n",
              "      filter: drop-shadow(0px 1px 2px rgba(0, 0, 0, 0.3));\n",
              "      fill: #FFFFFF;\n",
              "    }\n",
              "  </style>\n",
              "\n",
              "      <script>\n",
              "        const buttonEl =\n",
              "          document.querySelector('#df-b8fb8d81-09e5-4ddf-9243-50fdbe4b88d3 button.colab-df-convert');\n",
              "        buttonEl.style.display =\n",
              "          google.colab.kernel.accessAllowed ? 'block' : 'none';\n",
              "\n",
              "        async function convertToInteractive(key) {\n",
              "          const element = document.querySelector('#df-b8fb8d81-09e5-4ddf-9243-50fdbe4b88d3');\n",
              "          const dataTable =\n",
              "            await google.colab.kernel.invokeFunction('convertToInteractive',\n",
              "                                                     [key], {});\n",
              "          if (!dataTable) return;\n",
              "\n",
              "          const docLinkHtml = 'Like what you see? Visit the ' +\n",
              "            '<a target=\"_blank\" href=https://colab.research.google.com/notebooks/data_table.ipynb>data table notebook</a>'\n",
              "            + ' to learn more about interactive tables.';\n",
              "          element.innerHTML = '';\n",
              "          dataTable['output_type'] = 'display_data';\n",
              "          await google.colab.output.renderOutput(dataTable, element);\n",
              "          const docLink = document.createElement('div');\n",
              "          docLink.innerHTML = docLinkHtml;\n",
              "          element.appendChild(docLink);\n",
              "        }\n",
              "      </script>\n",
              "    </div>\n",
              "  </div>\n",
              "  "
            ]
          },
          "metadata": {},
          "execution_count": 2
        }
      ],
      "source": [
        "data=pd.read_csv('/Housing.csv')\n",
        "data"
      ]
    },
    {
      "cell_type": "markdown",
      "id": "fbdf95e6",
      "metadata": {
        "id": "fbdf95e6"
      },
      "source": [
        "### Uni varient"
      ]
    },
    {
      "cell_type": "code",
      "execution_count": 3,
      "id": "99e6f7d7",
      "metadata": {
        "colab": {
          "base_uri": "https://localhost:8080/",
          "height": 449
        },
        "id": "99e6f7d7",
        "outputId": "61033261-3d45-4a51-8c45-fe644c03f149"
      },
      "outputs": [
        {
          "output_type": "display_data",
          "data": {
            "text/plain": [
              "<Figure size 640x480 with 1 Axes>"
            ],
            "image/png": "[encoded data removed]"
          },
          "metadata": {}
        }
      ],
      "source": [
        "plt.hist(data['stories'])\n",
        "plt.xlabel('number of stories')\n",
        "plt.ylabel('number of houses available')\n",
        "plt.show()"
      ]
    },
    {
      "cell_type": "code",
      "execution_count": 4,
      "id": "ed37ff2c",
      "metadata": {
        "colab": {
          "base_uri": "https://localhost:8080/",
          "height": 465
        },
        "id": "ed37ff2c",
        "outputId": "8b90f4f4-196f-4e60-f629-a0cdd3b7526a"
      },
      "outputs": [
        {
          "output_type": "display_data",
          "data": {
            "text/plain": [
              "<Figure size 640x480 with 1 Axes>"
            ],
            "image/png": "[encoded data removed]"
          },
          "metadata": {}
        }
      ],
      "source": [
        "plt.bar(data['stories'],data['price'])\n",
        "plt.xlabel('number of stories')\n",
        "plt.ylabel('avg price of the house')\n",
        "plt.show()"
      ]
    },
    {
      "cell_type": "markdown",
      "id": "bde6f157",
      "metadata": {
        "id": "bde6f157"
      },
      "source": [
        "### Bi varient"
      ]
    },
    {
      "cell_type": "code",
      "execution_count": 5,
      "id": "8e165b51",
      "metadata": {
        "colab": {
          "base_uri": "https://localhost:8080/",
          "height": 465
        },
        "id": "8e165b51",
        "outputId": "dda49106-7012-4f02-b0c8-71b0111bf9a4"
      },
      "outputs": [
        {
          "output_type": "display_data",
          "data": {
            "text/plain": [
              "<Figure size 640x480 with 1 Axes>"
            ],
            "image/png": "[encoded data removed]"
          },
          "metadata": {}
        }
      ],
      "source": [
        "plt.scatter(data['area'],data['price'])\n",
        "plt.xlabel('area of the house')\n",
        "plt.ylabel('price of the house')\n",
        "plt.show()"
      ]
    },
    {
      "cell_type": "code",
      "execution_count": 6,
      "id": "59250899",
      "metadata": {
        "colab": {
          "base_uri": "https://localhost:8080/",
          "height": 478
        },
        "id": "59250899",
        "outputId": "1059e3ad-1206-4dcd-e9ef-09bf384088e4"
      },
      "outputs": [
        {
          "output_type": "display_data",
          "data": {
            "text/plain": [
              "<Figure size 640x480 with 1 Axes>"
            ],
            "image/png": "[encoded data removed]"
          },
          "metadata": {}
        }
      ],
      "source": [
        "data.boxplot('parking','stories')\n",
        "plt.show()"
      ]
    },
    {
      "cell_type": "markdown",
      "id": "a20d9548",
      "metadata": {
        "id": "a20d9548"
      },
      "source": [
        "### Multi varient"
      ]
    },
    {
      "cell_type": "code",
      "execution_count": 7,
      "id": "a96b19a7",
      "metadata": {
        "colab": {
          "base_uri": "https://localhost:8080/",
          "height": 568
        },
        "id": "a96b19a7",
        "outputId": "afc23a00-6f70-47c0-83f2-f7340d8ac930"
      },
      "outputs": [
        {
          "output_type": "stream",
          "name": "stderr",
          "text": [
            "<ipython-input-7-d901d6faafdc>:1: FutureWarning: The default value of numeric_only in DataFrame.corr is deprecated. In a future version, it will default to False. Select only valid columns or specify the value of numeric_only to silence this warning.\n",
            "  sns.heatmap(data.corr(),annot=True)\n"
          ]
        },
        {
          "output_type": "display_data",
          "data": {
            "text/plain": [
              "<Figure size 640x480 with 2 Axes>"
            ],
            "image/png": "[encoded data removed]"
          },
          "metadata": {}
        }
      ],
      "source": [
        "sns.heatmap(data.corr(),annot=True)\n",
        "plt.title('Correlation matrix')\n",
        "plt.show()"
      ]
    },
    {
      "cell_type": "markdown",
      "id": "91723405",
      "metadata": {
        "id": "91723405"
      },
      "source": [
        "### Descriptive Statistics"
      ]
    },
    {
      "cell_type": "code",
      "execution_count": 8,
      "id": "0f592f5d",
      "metadata": {
        "colab": {
          "base_uri": "https://localhost:8080/",
          "height": 300
        },
        "id": "0f592f5d",
        "outputId": "6bff91bc-75f2-4ea8-a085-66be174ddfde"
      },
      "outputs": [
        {
          "output_type": "execute_result",
          "data": {
            "text/plain": [
              "              price          area    bedrooms   bathrooms     stories  \\\n",
              "count  5.450000e+02    545.000000  545.000000  545.000000  545.000000   \n",
              "mean   4.766729e+06   5150.541284    2.965138    1.286239    1.805505   \n",
              "std    1.870440e+06   2170.141023    0.738064    0.502470    0.867492   \n",
              "min    1.750000e+06   1650.000000    1.000000    1.000000    1.000000   \n",
              "25%    3.430000e+06   3600.000000    2.000000    1.000000    1.000000   \n",
              "50%    4.340000e+06   4600.000000    3.000000    1.000000    2.000000   \n",
              "75%    5.740000e+06   6360.000000    3.000000    2.000000    2.000000   \n",
              "max    1.330000e+07  16200.000000    6.000000    4.000000    4.000000   \n",
              "\n",
              "          parking  \n",
              "count  545.000000  \n",
              "mean     0.693578  \n",
              "std      0.861586  \n",
              "min      0.000000  \n",
              "25%      0.000000  \n",
              "50%      0.000000  \n",
              "75%      1.000000  \n",
              "max      3.000000  "
            ],
            "text/html": [
              "\n",
              "  <div id=\"df-dfa82ab1-3b88-48a6-a79b-6a5ee8a7b461\">\n",
              "    <div class=\"colab-df-container\">\n",
              "      <div>\n",
              "<style scoped>\n",
              "    .dataframe tbody tr th:only-of-type {\n",
              "        vertical-align: middle;\n",
              "    }\n",
              "\n",
              "    .dataframe tbody tr th {\n",
              "        vertical-align: top;\n",
              "    }\n",
              "\n",
              "    .dataframe thead th {\n",
              "        text-align: right;\n",
              "    }\n",
              "</style>\n",
              "<table border=\"1\" class=\"dataframe\">\n",
              "  <thead>\n",
              "    <tr style=\"text-align: right;\">\n",
              "      <th></th>\n",
              "      <th>price</th>\n",
              "      <th>area</th>\n",
              "      <th>bedrooms</th>\n",
              "      <th>bathrooms</th>\n",
              "      <th>stories</th>\n",
              "      <th>parking</th>\n",
              "    </tr>\n",
              "  </thead>\n",
              "  <tbody>\n",
              "    <tr>\n",
              "      <th>count</th>\n",
              "      <td>5.450000e+02</td>\n",
              "      <td>545.000000</td>\n",
              "      <td>545.000000</td>\n",
              "      <td>545.000000</td>\n",
              "      <td>545.000000</td>\n",
              "      <td>545.000000</td>\n",
              "    </tr>\n",
              "    <tr>\n",
              "      <th>mean</th>\n",
              "      <td>4.766729e+06</td>\n",
              "      <td>5150.541284</td>\n",
              "      <td>2.965138</td>\n",
              "      <td>1.286239</td>\n",
              "      <td>1.805505</td>\n",
              "      <td>0.693578</td>\n",
              "    </tr>\n",
              "    <tr>\n",
              "      <th>std</th>\n",
              "      <td>1.870440e+06</td>\n",
              "      <td>2170.141023</td>\n",
              "      <td>0.738064</td>\n",
              "      <td>0.502470</td>\n",
              "      <td>0.867492</td>\n",
              "      <td>0.861586</td>\n",
              "    </tr>\n",
              "    <tr>\n",
              "      <th>min</th>\n",
              "      <td>1.750000e+06</td>\n",
              "      <td>1650.000000</td>\n",
              "      <td>1.000000</td>\n",
              "      <td>1.000000</td>\n",
              "      <td>1.000000</td>\n",
              "      <td>0.000000</td>\n",
              "    </tr>\n",
              "    <tr>\n",
              "      <th>25%</th>\n",
              "      <td>3.430000e+06</td>\n",
              "      <td>3600.000000</td>\n",
              "      <td>2.000000</td>\n",
              "      <td>1.000000</td>\n",
              "      <td>1.000000</td>\n",
              "      <td>0.000000</td>\n",
              "    </tr>\n",
              "    <tr>\n",
              "      <th>50%</th>\n",
              "      <td>4.340000e+06</td>\n",
              "      <td>4600.000000</td>\n",
              "      <td>3.000000</td>\n",
              "      <td>1.000000</td>\n",
              "      <td>2.000000</td>\n",
              "      <td>0.000000</td>\n",
              "    </tr>\n",
              "    <tr>\n",
              "      <th>75%</th>\n",
              "      <td>5.740000e+06</td>\n",
              "      <td>6360.000000</td>\n",
              "      <td>3.000000</td>\n",
              "      <td>2.000000</td>\n",
              "      <td>2.000000</td>\n",
              "      <td>1.000000</td>\n",
              "    </tr>\n",
              "    <tr>\n",
              "      <th>max</th>\n",
              "      <td>1.330000e+07</td>\n",
              "      <td>16200.000000</td>\n",
              "      <td>6.000000</td>\n",
              "      <td>4.000000</td>\n",
              "      <td>4.000000</td>\n",
              "      <td>3.000000</td>\n",
              "    </tr>\n",
              "  </tbody>\n",
              "</table>\n",
              "</div>\n",
              "      <button class=\"colab-df-convert\" onclick=\"convertToInteractive('df-dfa82ab1-3b88-48a6-a79b-6a5ee8a7b461')\"\n",
              "              title=\"Convert this dataframe to an interactive table.\"\n",
              "              style=\"display:none;\">\n",
              "        \n",
              "  <svg xmlns=\"http://www.w3.org/2000/svg\" height=\"24px\"viewBox=\"0 0 24 24\"\n",
              "       width=\"24px\">\n",
              "    <path d=\"M0 0h24v24H0V0z\" fill=\"none\"/>\n",
              "    <path d=\"M18.56 5.44l.94 2.06.94-2.06 2.06-.94-2.06-.94-.94-2.06-.94 2.06-2.06.94zm-11 1L8.5 8.5l.94-2.06 2.06-.94-2.06-.94L8.5 2.5l-.94 2.06-2.06.94zm10 10l.94 2.06.94-2.06 2.06-.94-2.06-.94-.94-2.06-.94 2.06-2.06.94z\"/><path d=\"M17.41 7.96l-1.37-1.37c-.4-.4-.92-.59-1.43-.59-.52 0-1.04.2-1.43.59L10.3 9.45l-7.72 7.72c-.78.78-.78 2.05 0 2.83L4 21.41c.39.39.9.59 1.41.59.51 0 1.02-.2 1.41-.59l7.78-7.78 2.81-2.81c.8-.78.8-2.07 0-2.86zM5.41 20L4 18.59l7.72-7.72 1.47 1.35L5.41 20z\"/>\n",
              "  </svg>\n",
              "      </button>\n",
              "      \n",
              "  <style>\n",
              "    .colab-df-container {\n",
              "      display:flex;\n",
              "      flex-wrap:wrap;\n",
              "      gap: 12px;\n",
              "    }\n",
              "\n",
              "    .colab-df-convert {\n",
              "      background-color: #E8F0FE;\n",
              "      border: none;\n",
              "      border-radius: 50%;\n",
              "      cursor: pointer;\n",
              "      display: none;\n",
              "      fill: #1967D2;\n",
              "      height: 32px;\n",
              "      padding: 0 0 0 0;\n",
              "      width: 32px;\n",
              "    }\n",
              "\n",
              "    .colab-df-convert:hover {\n",
              "      background-color: #E2EBFA;\n",
              "      box-shadow: 0px 1px 2px rgba(60, 64, 67, 0.3), 0px 1px 3px 1px rgba(60, 64, 67, 0.15);\n",
              "      fill: #174EA6;\n",
              "    }\n",
              "\n",
              "    [theme=dark] .colab-df-convert {\n",
              "      background-color: #3B4455;\n",
              "      fill: #D2E3FC;\n",
              "    }\n",
              "\n",
              "    [theme=dark] .colab-df-convert:hover {\n",
              "      background-color: #434B5C;\n",
              "      box-shadow: 0px 1px 3px 1px rgba(0, 0, 0, 0.15);\n",
              "      filter: drop-shadow(0px 1px 2px rgba(0, 0, 0, 0.3));\n",
              "      fill: #FFFFFF;\n",
              "    }\n",
              "  </style>\n",
              "\n",
              "      <script>\n",
              "        const buttonEl =\n",
              "          document.querySelector('#df-dfa82ab1-3b88-48a6-a79b-6a5ee8a7b461 button.colab-df-convert');\n",
              "        buttonEl.style.display =\n",
              "          google.colab.kernel.accessAllowed ? 'block' : 'none';\n",
              "\n",
              "        async function convertToInteractive(key) {\n",
              "          const element = document.querySelector('#df-dfa82ab1-3b88-48a6-a79b-6a5ee8a7b461');\n",
              "          const dataTable =\n",
              "            await google.colab.kernel.invokeFunction('convertToInteractive',\n",
              "                                                     [key], {});\n",
              "          if (!dataTable) return;\n",
              "\n",
              "          const docLinkHtml = 'Like what you see? Visit the ' +\n",
              "            '<a target=\"_blank\" href=https://colab.research.google.com/notebooks/data_table.ipynb>data table notebook</a>'\n",
              "            + ' to learn more about interactive tables.';\n",
              "          element.innerHTML = '';\n",
              "          dataTable['output_type'] = 'display_data';\n",
              "          await google.colab.output.renderOutput(dataTable, element);\n",
              "          const docLink = document.createElement('div');\n",
              "          docLink.innerHTML = docLinkHtml;\n",
              "          element.appendChild(docLink);\n",
              "        }\n",
              "      </script>\n",
              "    </div>\n",
              "  </div>\n",
              "  "
            ]
          },
          "metadata": {},
          "execution_count": 8
        }
      ],
      "source": [
        "data.describe()"
      ]
    },
    {
      "cell_type": "markdown",
      "id": "ed587714",
      "metadata": {
        "id": "ed587714"
      },
      "source": [
        "### Cheching and dealing with missing values"
      ]
    },
    {
      "cell_type": "code",
      "execution_count": 9,
      "id": "fe5ba0ab",
      "metadata": {
        "colab": {
          "base_uri": "https://localhost:8080/"
        },
        "id": "fe5ba0ab",
        "outputId": "06961986-6237-4ae2-f2bf-b4263f304c45"
      },
      "outputs": [
        {
          "output_type": "execute_result",
          "data": {
            "text/plain": [
              "price               0\n",
              "area                0\n",
              "bedrooms            0\n",
              "bathrooms           0\n",
              "stories             0\n",
              "mainroad            0\n",
              "guestroom           0\n",
              "basement            0\n",
              "hotwaterheating     0\n",
              "airconditioning     0\n",
              "parking             0\n",
              "furnishingstatus    0\n",
              "dtype: int64"
            ]
          },
          "metadata": {},
          "execution_count": 9
        }
      ],
      "source": [
        "missing=data.isnull().sum()\n",
        "missing"
      ]
    },
    {
      "cell_type": "code",
      "execution_count": 10,
      "id": "c6c7bb07",
      "metadata": {
        "id": "c6c7bb07"
      },
      "outputs": [],
      "source": [
        "#there are no missing data incase missing data are present we can replace them with mean of that column of the data\n",
        "#data1=data.fillna(data.mean())\n",
        "#data1"
      ]
    },
    {
      "cell_type": "markdown",
      "id": "c97ebab0",
      "metadata": {
        "id": "c97ebab0"
      },
      "source": [
        "### Detecting and dealing with Outliers"
      ]
    },
    {
      "cell_type": "code",
      "execution_count": 11,
      "id": "759eb874",
      "metadata": {
        "colab": {
          "base_uri": "https://localhost:8080/",
          "height": 424
        },
        "id": "759eb874",
        "outputId": "d374c019-a1f4-43ea-e813-2a90f5e361b0"
      },
      "outputs": [
        {
          "output_type": "execute_result",
          "data": {
            "text/plain": [
              "          price    area  bedrooms  bathrooms  stories mainroad guestroom  \\\n",
              "0    13300000.0  7420.0       4.0        2.0      3.0      yes        no   \n",
              "1    12250000.0  8960.0       4.0        4.0      4.0      yes        no   \n",
              "2    12250000.0  9960.0       3.0        2.0      2.0      yes        no   \n",
              "3    12215000.0  7500.0       4.0        2.0      2.0      yes        no   \n",
              "4    11410000.0  7420.0       4.0        1.0      2.0      yes       yes   \n",
              "..          ...     ...       ...        ...      ...      ...       ...   \n",
              "540   1820000.0  3000.0       2.0        1.0      1.0      yes        no   \n",
              "541   1767150.0  2400.0       3.0        1.0      1.0       no        no   \n",
              "542   1750000.0  3620.0       2.0        1.0      1.0      yes        no   \n",
              "543   1750000.0  2910.0       3.0        1.0      1.0       no        no   \n",
              "544   1750000.0  3850.0       3.0        1.0      2.0      yes        no   \n",
              "\n",
              "    basement hotwaterheating airconditioning  parking furnishingstatus  \n",
              "0         no              no             yes      2.0        furnished  \n",
              "1         no              no             yes      3.0        furnished  \n",
              "2        yes              no              no      2.0   semi-furnished  \n",
              "3        yes              no             yes      3.0        furnished  \n",
              "4        yes              no             yes      2.0        furnished  \n",
              "..       ...             ...             ...      ...              ...  \n",
              "540      yes              no              no      2.0      unfurnished  \n",
              "541       no              no              no      0.0   semi-furnished  \n",
              "542       no              no              no      0.0      unfurnished  \n",
              "543       no              no              no      0.0        furnished  \n",
              "544       no              no              no      0.0      unfurnished  \n",
              "\n",
              "[545 rows x 12 columns]"
            ],
            "text/html": [
              "\n",
              "  <div id=\"df-456d1e20-ce7a-41a1-a2fb-2c8ee35f258d\">\n",
              "    <div class=\"colab-df-container\">\n",
              "      <div>\n",
              "<style scoped>\n",
              "    .dataframe tbody tr th:only-of-type {\n",
              "        vertical-align: middle;\n",
              "    }\n",
              "\n",
              "    .dataframe tbody tr th {\n",
              "        vertical-align: top;\n",
              "    }\n",
              "\n",
              "    .dataframe thead th {\n",
              "        text-align: right;\n",
              "    }\n",
              "</style>\n",
              "<table border=\"1\" class=\"dataframe\">\n",
              "  <thead>\n",
              "    <tr style=\"text-align: right;\">\n",
              "      <th></th>\n",
              "      <th>price</th>\n",
              "      <th>area</th>\n",
              "      <th>bedrooms</th>\n",
              "      <th>bathrooms</th>\n",
              "      <th>stories</th>\n",
              "      <th>mainroad</th>\n",
              "      <th>guestroom</th>\n",
              "      <th>basement</th>\n",
              "      <th>hotwaterheating</th>\n",
              "      <th>airconditioning</th>\n",
              "      <th>parking</th>\n",
              "      <th>furnishingstatus</th>\n",
              "    </tr>\n",
              "  </thead>\n",
              "  <tbody>\n",
              "    <tr>\n",
              "      <th>0</th>\n",
              "      <td>13300000.0</td>\n",
              "      <td>7420.0</td>\n",
              "      <td>4.0</td>\n",
              "      <td>2.0</td>\n",
              "      <td>3.0</td>\n",
              "      <td>yes</td>\n",
              "      <td>no</td>\n",
              "      <td>no</td>\n",
              "      <td>no</td>\n",
              "      <td>yes</td>\n",
              "      <td>2.0</td>\n",
              "      <td>furnished</td>\n",
              "    </tr>\n",
              "    <tr>\n",
              "      <th>1</th>\n",
              "      <td>12250000.0</td>\n",
              "      <td>8960.0</td>\n",
              "      <td>4.0</td>\n",
              "      <td>4.0</td>\n",
              "      <td>4.0</td>\n",
              "      <td>yes</td>\n",
              "      <td>no</td>\n",
              "      <td>no</td>\n",
              "      <td>no</td>\n",
              "      <td>yes</td>\n",
              "      <td>3.0</td>\n",
              "      <td>furnished</td>\n",
              "    </tr>\n",
              "    <tr>\n",
              "      <th>2</th>\n",
              "      <td>12250000.0</td>\n",
              "      <td>9960.0</td>\n",
              "      <td>3.0</td>\n",
              "      <td>2.0</td>\n",
              "      <td>2.0</td>\n",
              "      <td>yes</td>\n",
              "      <td>no</td>\n",
              "      <td>yes</td>\n",
              "      <td>no</td>\n",
              "      <td>no</td>\n",
              "      <td>2.0</td>\n",
              "      <td>semi-furnished</td>\n",
              "    </tr>\n",
              "    <tr>\n",
              "      <th>3</th>\n",
              "      <td>12215000.0</td>\n",
              "      <td>7500.0</td>\n",
              "      <td>4.0</td>\n",
              "      <td>2.0</td>\n",
              "      <td>2.0</td>\n",
              "      <td>yes</td>\n",
              "      <td>no</td>\n",
              "      <td>yes</td>\n",
              "      <td>no</td>\n",
              "      <td>yes</td>\n",
              "      <td>3.0</td>\n",
              "      <td>furnished</td>\n",
              "    </tr>\n",
              "    <tr>\n",
              "      <th>4</th>\n",
              "      <td>11410000.0</td>\n",
              "      <td>7420.0</td>\n",
              "      <td>4.0</td>\n",
              "      <td>1.0</td>\n",
              "      <td>2.0</td>\n",
              "      <td>yes</td>\n",
              "      <td>yes</td>\n",
              "      <td>yes</td>\n",
              "      <td>no</td>\n",
              "      <td>yes</td>\n",
              "      <td>2.0</td>\n",
              "      <td>furnished</td>\n",
              "    </tr>\n",
              "    <tr>\n",
              "      <th>...</th>\n",
              "      <td>...</td>\n",
              "      <td>...</td>\n",
              "      <td>...</td>\n",
              "      <td>...</td>\n",
              "      <td>...</td>\n",
              "      <td>...</td>\n",
              "      <td>...</td>\n",
              "      <td>...</td>\n",
              "      <td>...</td>\n",
              "      <td>...</td>\n",
              "      <td>...</td>\n",
              "      <td>...</td>\n",
              "    </tr>\n",
              "    <tr>\n",
              "      <th>540</th>\n",
              "      <td>1820000.0</td>\n",
              "      <td>3000.0</td>\n",
              "      <td>2.0</td>\n",
              "      <td>1.0</td>\n",
              "      <td>1.0</td>\n",
              "      <td>yes</td>\n",
              "      <td>no</td>\n",
              "      <td>yes</td>\n",
              "      <td>no</td>\n",
              "      <td>no</td>\n",
              "      <td>2.0</td>\n",
              "      <td>unfurnished</td>\n",
              "    </tr>\n",
              "    <tr>\n",
              "      <th>541</th>\n",
              "      <td>1767150.0</td>\n",
              "      <td>2400.0</td>\n",
              "      <td>3.0</td>\n",
              "      <td>1.0</td>\n",
              "      <td>1.0</td>\n",
              "      <td>no</td>\n",
              "      <td>no</td>\n",
              "      <td>no</td>\n",
              "      <td>no</td>\n",
              "      <td>no</td>\n",
              "      <td>0.0</td>\n",
              "      <td>semi-furnished</td>\n",
              "    </tr>\n",
              "    <tr>\n",
              "      <th>542</th>\n",
              "      <td>1750000.0</td>\n",
              "      <td>3620.0</td>\n",
              "      <td>2.0</td>\n",
              "      <td>1.0</td>\n",
              "      <td>1.0</td>\n",
              "      <td>yes</td>\n",
              "      <td>no</td>\n",
              "      <td>no</td>\n",
              "      <td>no</td>\n",
              "      <td>no</td>\n",
              "      <td>0.0</td>\n",
              "      <td>unfurnished</td>\n",
              "    </tr>\n",
              "    <tr>\n",
              "      <th>543</th>\n",
              "      <td>1750000.0</td>\n",
              "      <td>2910.0</td>\n",
              "      <td>3.0</td>\n",
              "      <td>1.0</td>\n",
              "      <td>1.0</td>\n",
              "      <td>no</td>\n",
              "      <td>no</td>\n",
              "      <td>no</td>\n",
              "      <td>no</td>\n",
              "      <td>no</td>\n",
              "      <td>0.0</td>\n",
              "      <td>furnished</td>\n",
              "    </tr>\n",
              "    <tr>\n",
              "      <th>544</th>\n",
              "      <td>1750000.0</td>\n",
              "      <td>3850.0</td>\n",
              "      <td>3.0</td>\n",
              "      <td>1.0</td>\n",
              "      <td>2.0</td>\n",
              "      <td>yes</td>\n",
              "      <td>no</td>\n",
              "      <td>no</td>\n",
              "      <td>no</td>\n",
              "      <td>no</td>\n",
              "      <td>0.0</td>\n",
              "      <td>unfurnished</td>\n",
              "    </tr>\n",
              "  </tbody>\n",
              "</table>\n",
              "<p>545 rows × 12 columns</p>\n",
              "</div>\n",
              "      <button class=\"colab-df-convert\" onclick=\"convertToInteractive('df-456d1e20-ce7a-41a1-a2fb-2c8ee35f258d')\"\n",
              "              title=\"Convert this dataframe to an interactive table.\"\n",
              "              style=\"display:none;\">\n",
              "        \n",
              "  <svg xmlns=\"http://www.w3.org/2000/svg\" height=\"24px\"viewBox=\"0 0 24 24\"\n",
              "       width=\"24px\">\n",
              "    <path d=\"M0 0h24v24H0V0z\" fill=\"none\"/>\n",
              "    <path d=\"M18.56 5.44l.94 2.06.94-2.06 2.06-.94-2.06-.94-.94-2.06-.94 2.06-2.06.94zm-11 1L8.5 8.5l.94-2.06 2.06-.94-2.06-.94L8.5 2.5l-.94 2.06-2.06.94zm10 10l.94 2.06.94-2.06 2.06-.94-2.06-.94-.94-2.06-.94 2.06-2.06.94z\"/><path d=\"M17.41 7.96l-1.37-1.37c-.4-.4-.92-.59-1.43-.59-.52 0-1.04.2-1.43.59L10.3 9.45l-7.72 7.72c-.78.78-.78 2.05 0 2.83L4 21.41c.39.39.9.59 1.41.59.51 0 1.02-.2 1.41-.59l7.78-7.78 2.81-2.81c.8-.78.8-2.07 0-2.86zM5.41 20L4 18.59l7.72-7.72 1.47 1.35L5.41 20z\"/>\n",
              "  </svg>\n",
              "      </button>\n",
              "      \n",
              "  <style>\n",
              "    .colab-df-container {\n",
              "      display:flex;\n",
              "      flex-wrap:wrap;\n",
              "      gap: 12px;\n",
              "    }\n",
              "\n",
              "    .colab-df-convert {\n",
              "      background-color: #E8F0FE;\n",
              "      border: none;\n",
              "      border-radius: 50%;\n",
              "      cursor: pointer;\n",
              "      display: none;\n",
              "      fill: #1967D2;\n",
              "      height: 32px;\n",
              "      padding: 0 0 0 0;\n",
              "      width: 32px;\n",
              "    }\n",
              "\n",
              "    .colab-df-convert:hover {\n",
              "      background-color: #E2EBFA;\n",
              "      box-shadow: 0px 1px 2px rgba(60, 64, 67, 0.3), 0px 1px 3px 1px rgba(60, 64, 67, 0.15);\n",
              "      fill: #174EA6;\n",
              "    }\n",
              "\n",
              "    [theme=dark] .colab-df-convert {\n",
              "      background-color: #3B4455;\n",
              "      fill: #D2E3FC;\n",
              "    }\n",
              "\n",
              "    [theme=dark] .colab-df-convert:hover {\n",
              "      background-color: #434B5C;\n",
              "      box-shadow: 0px 1px 3px 1px rgba(0, 0, 0, 0.15);\n",
              "      filter: drop-shadow(0px 1px 2px rgba(0, 0, 0, 0.3));\n",
              "      fill: #FFFFFF;\n",
              "    }\n",
              "  </style>\n",
              "\n",
              "      <script>\n",
              "        const buttonEl =\n",
              "          document.querySelector('#df-456d1e20-ce7a-41a1-a2fb-2c8ee35f258d button.colab-df-convert');\n",
              "        buttonEl.style.display =\n",
              "          google.colab.kernel.accessAllowed ? 'block' : 'none';\n",
              "\n",
              "        async function convertToInteractive(key) {\n",
              "          const element = document.querySelector('#df-456d1e20-ce7a-41a1-a2fb-2c8ee35f258d');\n",
              "          const dataTable =\n",
              "            await google.colab.kernel.invokeFunction('convertToInteractive',\n",
              "                                                     [key], {});\n",
              "          if (!dataTable) return;\n",
              "\n",
              "          const docLinkHtml = 'Like what you see? Visit the ' +\n",
              "            '<a target=\"_blank\" href=https://colab.research.google.com/notebooks/data_table.ipynb>data table notebook</a>'\n",
              "            + ' to learn more about interactive tables.';\n",
              "          element.innerHTML = '';\n",
              "          dataTable['output_type'] = 'display_data';\n",
              "          await google.colab.output.renderOutput(dataTable, element);\n",
              "          const docLink = document.createElement('div');\n",
              "          docLink.innerHTML = docLinkHtml;\n",
              "          element.appendChild(docLink);\n",
              "        }\n",
              "      </script>\n",
              "    </div>\n",
              "  </div>\n",
              "  "
            ]
          },
          "metadata": {},
          "execution_count": 11
        }
      ],
      "source": [
        "numeric_columns = data.select_dtypes(include='number').columns\n",
        "data_no_outliers = data.copy()\n",
        "\n",
        "for column in numeric_columns:\n",
        "    z_scores = (data[column] - data[column].mean()) / data[column].std()\n",
        "\n",
        "    outliers = (z_scores > 3) | (z_scores < -3)\n",
        "column_name=['price','area','bedrooms','bathrooms','stories','parking']\n",
        "data_no_outliers.loc[np.abs(z_scores) > 3, column_name] = data[column].mean()\n",
        "\n",
        "data_no_outliers"
      ]
    },
    {
      "cell_type": "markdown",
      "id": "87bff233",
      "metadata": {
        "id": "87bff233"
      },
      "source": [
        "### Checking Categorical columns and encoding"
      ]
    },
    {
      "cell_type": "code",
      "execution_count": 12,
      "id": "40c7c06d",
      "metadata": {
        "colab": {
          "base_uri": "https://localhost:8080/",
          "height": 505
        },
        "id": "40c7c06d",
        "outputId": "82e09eb0-b698-4e3a-9cab-29f923cdc5bb"
      },
      "outputs": [
        {
          "output_type": "execute_result",
          "data": {
            "text/plain": [
              "        price  area  bedrooms  bathrooms  stories  parking  mainroad_no  \\\n",
              "0    13300000  7420         4          2        3        2            0   \n",
              "1    12250000  8960         4          4        4        3            0   \n",
              "2    12250000  9960         3          2        2        2            0   \n",
              "3    12215000  7500         4          2        2        3            0   \n",
              "4    11410000  7420         4          1        2        2            0   \n",
              "..        ...   ...       ...        ...      ...      ...          ...   \n",
              "540   1820000  3000         2          1        1        2            0   \n",
              "541   1767150  2400         3          1        1        0            1   \n",
              "542   1750000  3620         2          1        1        0            0   \n",
              "543   1750000  2910         3          1        1        0            1   \n",
              "544   1750000  3850         3          1        2        0            0   \n",
              "\n",
              "     mainroad_yes  guestroom_no  guestroom_yes  basement_no  basement_yes  \\\n",
              "0               1             1              0            1             0   \n",
              "1               1             1              0            1             0   \n",
              "2               1             1              0            0             1   \n",
              "3               1             1              0            0             1   \n",
              "4               1             0              1            0             1   \n",
              "..            ...           ...            ...          ...           ...   \n",
              "540             1             1              0            0             1   \n",
              "541             0             1              0            1             0   \n",
              "542             1             1              0            1             0   \n",
              "543             0             1              0            1             0   \n",
              "544             1             1              0            1             0   \n",
              "\n",
              "     hotwaterheating_no  hotwaterheating_yes  airconditioning_no  \\\n",
              "0                     1                    0                   0   \n",
              "1                     1                    0                   0   \n",
              "2                     1                    0                   1   \n",
              "3                     1                    0                   0   \n",
              "4                     1                    0                   0   \n",
              "..                  ...                  ...                 ...   \n",
              "540                   1                    0                   1   \n",
              "541                   1                    0                   1   \n",
              "542                   1                    0                   1   \n",
              "543                   1                    0                   1   \n",
              "544                   1                    0                   1   \n",
              "\n",
              "     airconditioning_yes  furnishingstatus_furnished  \\\n",
              "0                      1                           1   \n",
              "1                      1                           1   \n",
              "2                      0                           0   \n",
              "3                      1                           1   \n",
              "4                      1                           1   \n",
              "..                   ...                         ...   \n",
              "540                    0                           0   \n",
              "541                    0                           0   \n",
              "542                    0                           0   \n",
              "543                    0                           1   \n",
              "544                    0                           0   \n",
              "\n",
              "     furnishingstatus_semi-furnished  furnishingstatus_unfurnished  \n",
              "0                                  0                             0  \n",
              "1                                  0                             0  \n",
              "2                                  1                             0  \n",
              "3                                  0                             0  \n",
              "4                                  0                             0  \n",
              "..                               ...                           ...  \n",
              "540                                0                             1  \n",
              "541                                1                             0  \n",
              "542                                0                             1  \n",
              "543                                0                             0  \n",
              "544                                0                             1  \n",
              "\n",
              "[545 rows x 19 columns]"
            ],
            "text/html": [
              "\n",
              "  <div id=\"df-5ae6cd13-ee28-4367-b5f6-c25077c3fa50\">\n",
              "    <div class=\"colab-df-container\">\n",
              "      <div>\n",
              "<style scoped>\n",
              "    .dataframe tbody tr th:only-of-type {\n",
              "        vertical-align: middle;\n",
              "    }\n",
              "\n",
              "    .dataframe tbody tr th {\n",
              "        vertical-align: top;\n",
              "    }\n",
              "\n",
              "    .dataframe thead th {\n",
              "        text-align: right;\n",
              "    }\n",
              "</style>\n",
              "<table border=\"1\" class=\"dataframe\">\n",
              "  <thead>\n",
              "    <tr style=\"text-align: right;\">\n",
              "      <th></th>\n",
              "      <th>price</th>\n",
              "      <th>area</th>\n",
              "      <th>bedrooms</th>\n",
              "      <th>bathrooms</th>\n",
              "      <th>stories</th>\n",
              "      <th>parking</th>\n",
              "      <th>mainroad_no</th>\n",
              "      <th>mainroad_yes</th>\n",
              "      <th>guestroom_no</th>\n",
              "      <th>guestroom_yes</th>\n",
              "      <th>basement_no</th>\n",
              "      <th>basement_yes</th>\n",
              "      <th>hotwaterheating_no</th>\n",
              "      <th>hotwaterheating_yes</th>\n",
              "      <th>airconditioning_no</th>\n",
              "      <th>airconditioning_yes</th>\n",
              "      <th>furnishingstatus_furnished</th>\n",
              "      <th>furnishingstatus_semi-furnished</th>\n",
              "      <th>furnishingstatus_unfurnished</th>\n",
              "    </tr>\n",
              "  </thead>\n",
              "  <tbody>\n",
              "    <tr>\n",
              "      <th>0</th>\n",
              "      <td>13300000</td>\n",
              "      <td>7420</td>\n",
              "      <td>4</td>\n",
              "      <td>2</td>\n",
              "      <td>3</td>\n",
              "      <td>2</td>\n",
              "      <td>0</td>\n",
              "      <td>1</td>\n",
              "      <td>1</td>\n",
              "      <td>0</td>\n",
              "      <td>1</td>\n",
              "      <td>0</td>\n",
              "      <td>1</td>\n",
              "      <td>0</td>\n",
              "      <td>0</td>\n",
              "      <td>1</td>\n",
              "      <td>1</td>\n",
              "      <td>0</td>\n",
              "      <td>0</td>\n",
              "    </tr>\n",
              "    <tr>\n",
              "      <th>1</th>\n",
              "      <td>12250000</td>\n",
              "      <td>8960</td>\n",
              "      <td>4</td>\n",
              "      <td>4</td>\n",
              "      <td>4</td>\n",
              "      <td>3</td>\n",
              "      <td>0</td>\n",
              "      <td>1</td>\n",
              "      <td>1</td>\n",
              "      <td>0</td>\n",
              "      <td>1</td>\n",
              "      <td>0</td>\n",
              "      <td>1</td>\n",
              "      <td>0</td>\n",
              "      <td>0</td>\n",
              "      <td>1</td>\n",
              "      <td>1</td>\n",
              "      <td>0</td>\n",
              "      <td>0</td>\n",
              "    </tr>\n",
              "    <tr>\n",
              "      <th>2</th>\n",
              "      <td>12250000</td>\n",
              "      <td>9960</td>\n",
              "      <td>3</td>\n",
              "      <td>2</td>\n",
              "      <td>2</td>\n",
              "      <td>2</td>\n",
              "      <td>0</td>\n",
              "      <td>1</td>\n",
              "      <td>1</td>\n",
              "      <td>0</td>\n",
              "      <td>0</td>\n",
              "      <td>1</td>\n",
              "      <td>1</td>\n",
              "      <td>0</td>\n",
              "      <td>1</td>\n",
              "      <td>0</td>\n",
              "      <td>0</td>\n",
              "      <td>1</td>\n",
              "      <td>0</td>\n",
              "    </tr>\n",
              "    <tr>\n",
              "      <th>3</th>\n",
              "      <td>12215000</td>\n",
              "      <td>7500</td>\n",
              "      <td>4</td>\n",
              "      <td>2</td>\n",
              "      <td>2</td>\n",
              "      <td>3</td>\n",
              "      <td>0</td>\n",
              "      <td>1</td>\n",
              "      <td>1</td>\n",
              "      <td>0</td>\n",
              "      <td>0</td>\n",
              "      <td>1</td>\n",
              "      <td>1</td>\n",
              "      <td>0</td>\n",
              "      <td>0</td>\n",
              "      <td>1</td>\n",
              "      <td>1</td>\n",
              "      <td>0</td>\n",
              "      <td>0</td>\n",
              "    </tr>\n",
              "    <tr>\n",
              "      <th>4</th>\n",
              "      <td>11410000</td>\n",
              "      <td>7420</td>\n",
              "      <td>4</td>\n",
              "      <td>1</td>\n",
              "      <td>2</td>\n",
              "      <td>2</td>\n",
              "      <td>0</td>\n",
              "      <td>1</td>\n",
              "      <td>0</td>\n",
              "      <td>1</td>\n",
              "      <td>0</td>\n",
              "      <td>1</td>\n",
              "      <td>1</td>\n",
              "      <td>0</td>\n",
              "      <td>0</td>\n",
              "      <td>1</td>\n",
              "      <td>1</td>\n",
              "      <td>0</td>\n",
              "      <td>0</td>\n",
              "    </tr>\n",
              "    <tr>\n",
              "      <th>...</th>\n",
              "      <td>...</td>\n",
              "      <td>...</td>\n",
              "      <td>...</td>\n",
              "      <td>...</td>\n",
              "      <td>...</td>\n",
              "      <td>...</td>\n",
              "      <td>...</td>\n",
              "      <td>...</td>\n",
              "      <td>...</td>\n",
              "      <td>...</td>\n",
              "      <td>...</td>\n",
              "      <td>...</td>\n",
              "      <td>...</td>\n",
              "      <td>...</td>\n",
              "      <td>...</td>\n",
              "      <td>...</td>\n",
              "      <td>...</td>\n",
              "      <td>...</td>\n",
              "      <td>...</td>\n",
              "    </tr>\n",
              "    <tr>\n",
              "      <th>540</th>\n",
              "      <td>1820000</td>\n",
              "      <td>3000</td>\n",
              "      <td>2</td>\n",
              "      <td>1</td>\n",
              "      <td>1</td>\n",
              "      <td>2</td>\n",
              "      <td>0</td>\n",
              "      <td>1</td>\n",
              "      <td>1</td>\n",
              "      <td>0</td>\n",
              "      <td>0</td>\n",
              "      <td>1</td>\n",
              "      <td>1</td>\n",
              "      <td>0</td>\n",
              "      <td>1</td>\n",
              "      <td>0</td>\n",
              "      <td>0</td>\n",
              "      <td>0</td>\n",
              "      <td>1</td>\n",
              "    </tr>\n",
              "    <tr>\n",
              "      <th>541</th>\n",
              "      <td>1767150</td>\n",
              "      <td>2400</td>\n",
              "      <td>3</td>\n",
              "      <td>1</td>\n",
              "      <td>1</td>\n",
              "      <td>0</td>\n",
              "      <td>1</td>\n",
              "      <td>0</td>\n",
              "      <td>1</td>\n",
              "      <td>0</td>\n",
              "      <td>1</td>\n",
              "      <td>0</td>\n",
              "      <td>1</td>\n",
              "      <td>0</td>\n",
              "      <td>1</td>\n",
              "      <td>0</td>\n",
              "      <td>0</td>\n",
              "      <td>1</td>\n",
              "      <td>0</td>\n",
              "    </tr>\n",
              "    <tr>\n",
              "      <th>542</th>\n",
              "      <td>1750000</td>\n",
              "      <td>3620</td>\n",
              "      <td>2</td>\n",
              "      <td>1</td>\n",
              "      <td>1</td>\n",
              "      <td>0</td>\n",
              "      <td>0</td>\n",
              "      <td>1</td>\n",
              "      <td>1</td>\n",
              "      <td>0</td>\n",
              "      <td>1</td>\n",
              "      <td>0</td>\n",
              "      <td>1</td>\n",
              "      <td>0</td>\n",
              "      <td>1</td>\n",
              "      <td>0</td>\n",
              "      <td>0</td>\n",
              "      <td>0</td>\n",
              "      <td>1</td>\n",
              "    </tr>\n",
              "    <tr>\n",
              "      <th>543</th>\n",
              "      <td>1750000</td>\n",
              "      <td>2910</td>\n",
              "      <td>3</td>\n",
              "      <td>1</td>\n",
              "      <td>1</td>\n",
              "      <td>0</td>\n",
              "      <td>1</td>\n",
              "      <td>0</td>\n",
              "      <td>1</td>\n",
              "      <td>0</td>\n",
              "      <td>1</td>\n",
              "      <td>0</td>\n",
              "      <td>1</td>\n",
              "      <td>0</td>\n",
              "      <td>1</td>\n",
              "      <td>0</td>\n",
              "      <td>1</td>\n",
              "      <td>0</td>\n",
              "      <td>0</td>\n",
              "    </tr>\n",
              "    <tr>\n",
              "      <th>544</th>\n",
              "      <td>1750000</td>\n",
              "      <td>3850</td>\n",
              "      <td>3</td>\n",
              "      <td>1</td>\n",
              "      <td>2</td>\n",
              "      <td>0</td>\n",
              "      <td>0</td>\n",
              "      <td>1</td>\n",
              "      <td>1</td>\n",
              "      <td>0</td>\n",
              "      <td>1</td>\n",
              "      <td>0</td>\n",
              "      <td>1</td>\n",
              "      <td>0</td>\n",
              "      <td>1</td>\n",
              "      <td>0</td>\n",
              "      <td>0</td>\n",
              "      <td>0</td>\n",
              "      <td>1</td>\n",
              "    </tr>\n",
              "  </tbody>\n",
              "</table>\n",
              "<p>545 rows × 19 columns</p>\n",
              "</div>\n",
              "      <button class=\"colab-df-convert\" onclick=\"convertToInteractive('df-5ae6cd13-ee28-4367-b5f6-c25077c3fa50')\"\n",
              "              title=\"Convert this dataframe to an interactive table.\"\n",
              "              style=\"display:none;\">\n",
              "        \n",
              "  <svg xmlns=\"http://www.w3.org/2000/svg\" height=\"24px\"viewBox=\"0 0 24 24\"\n",
              "       width=\"24px\">\n",
              "    <path d=\"M0 0h24v24H0V0z\" fill=\"none\"/>\n",
              "    <path d=\"M18.56 5.44l.94 2.06.94-2.06 2.06-.94-2.06-.94-.94-2.06-.94 2.06-2.06.94zm-11 1L8.5 8.5l.94-2.06 2.06-.94-2.06-.94L8.5 2.5l-.94 2.06-2.06.94zm10 10l.94 2.06.94-2.06 2.06-.94-2.06-.94-.94-2.06-.94 2.06-2.06.94z\"/><path d=\"M17.41 7.96l-1.37-1.37c-.4-.4-.92-.59-1.43-.59-.52 0-1.04.2-1.43.59L10.3 9.45l-7.72 7.72c-.78.78-.78 2.05 0 2.83L4 21.41c.39.39.9.59 1.41.59.51 0 1.02-.2 1.41-.59l7.78-7.78 2.81-2.81c.8-.78.8-2.07 0-2.86zM5.41 20L4 18.59l7.72-7.72 1.47 1.35L5.41 20z\"/>\n",
              "  </svg>\n",
              "      </button>\n",
              "      \n",
              "  <style>\n",
              "    .colab-df-container {\n",
              "      display:flex;\n",
              "      flex-wrap:wrap;\n",
              "      gap: 12px;\n",
              "    }\n",
              "\n",
              "    .colab-df-convert {\n",
              "      background-color: #E8F0FE;\n",
              "      border: none;\n",
              "      border-radius: 50%;\n",
              "      cursor: pointer;\n",
              "      display: none;\n",
              "      fill: #1967D2;\n",
              "      height: 32px;\n",
              "      padding: 0 0 0 0;\n",
              "      width: 32px;\n",
              "    }\n",
              "\n",
              "    .colab-df-convert:hover {\n",
              "      background-color: #E2EBFA;\n",
              "      box-shadow: 0px 1px 2px rgba(60, 64, 67, 0.3), 0px 1px 3px 1px rgba(60, 64, 67, 0.15);\n",
              "      fill: #174EA6;\n",
              "    }\n",
              "\n",
              "    [theme=dark] .colab-df-convert {\n",
              "      background-color: #3B4455;\n",
              "      fill: #D2E3FC;\n",
              "    }\n",
              "\n",
              "    [theme=dark] .colab-df-convert:hover {\n",
              "      background-color: #434B5C;\n",
              "      box-shadow: 0px 1px 3px 1px rgba(0, 0, 0, 0.15);\n",
              "      filter: drop-shadow(0px 1px 2px rgba(0, 0, 0, 0.3));\n",
              "      fill: #FFFFFF;\n",
              "    }\n",
              "  </style>\n",
              "\n",
              "      <script>\n",
              "        const buttonEl =\n",
              "          document.querySelector('#df-5ae6cd13-ee28-4367-b5f6-c25077c3fa50 button.colab-df-convert');\n",
              "        buttonEl.style.display =\n",
              "          google.colab.kernel.accessAllowed ? 'block' : 'none';\n",
              "\n",
              "        async function convertToInteractive(key) {\n",
              "          const element = document.querySelector('#df-5ae6cd13-ee28-4367-b5f6-c25077c3fa50');\n",
              "          const dataTable =\n",
              "            await google.colab.kernel.invokeFunction('convertToInteractive',\n",
              "                                                     [key], {});\n",
              "          if (!dataTable) return;\n",
              "\n",
              "          const docLinkHtml = 'Like what you see? Visit the ' +\n",
              "            '<a target=\"_blank\" href=https://colab.research.google.com/notebooks/data_table.ipynb>data table notebook</a>'\n",
              "            + ' to learn more about interactive tables.';\n",
              "          element.innerHTML = '';\n",
              "          dataTable['output_type'] = 'display_data';\n",
              "          await google.colab.output.renderOutput(dataTable, element);\n",
              "          const docLink = document.createElement('div');\n",
              "          docLink.innerHTML = docLinkHtml;\n",
              "          element.appendChild(docLink);\n",
              "        }\n",
              "      </script>\n",
              "    </div>\n",
              "  </div>\n",
              "  "
            ]
          },
          "metadata": {},
          "execution_count": 12
        }
      ],
      "source": [
        "categorical_columns=data.select_dtypes('object','category').columns\n",
        "encoded_data=pd.get_dummies(data,categorical_columns)\n",
        "\n",
        "encoded_data"
      ]
    },
    {
      "cell_type": "markdown",
      "id": "cc79a1da",
      "metadata": {
        "id": "cc79a1da"
      },
      "source": [
        "### Splitting into dependent and independent data"
      ]
    },
    {
      "cell_type": "code",
      "execution_count": 14,
      "id": "fa38c1cb",
      "metadata": {
        "colab": {
          "base_uri": "https://localhost:8080/"
        },
        "id": "fa38c1cb",
        "outputId": "2a2f9698-3a0e-4c7a-a0c7-17bf15e09d84"
      },
      "outputs": [
        {
          "output_type": "execute_result",
          "data": {
            "text/plain": [
              "0      13300000.0\n",
              "1      12250000.0\n",
              "2      12250000.0\n",
              "3      12215000.0\n",
              "4      11410000.0\n",
              "          ...    \n",
              "540     1820000.0\n",
              "541     1767150.0\n",
              "542     1750000.0\n",
              "543     1750000.0\n",
              "544     1750000.0\n",
              "Name: price, Length: 545, dtype: float64"
            ]
          },
          "metadata": {},
          "execution_count": 14
        }
      ],
      "source": [
        "dependent_data=data_no_outliers['price']\n",
        "dependent_data"
      ]
    },
    {
      "cell_type": "code",
      "execution_count": 15,
      "id": "33992b21",
      "metadata": {
        "colab": {
          "base_uri": "https://localhost:8080/",
          "height": 424
        },
        "id": "33992b21",
        "outputId": "4600b8c2-c346-49dd-eb9e-acee832ad67e"
      },
      "outputs": [
        {
          "output_type": "execute_result",
          "data": {
            "text/plain": [
              "       area  bedrooms  bathrooms  stories mainroad guestroom basement  \\\n",
              "0    7420.0       4.0        2.0      3.0      yes        no       no   \n",
              "1    8960.0       4.0        4.0      4.0      yes        no       no   \n",
              "2    9960.0       3.0        2.0      2.0      yes        no      yes   \n",
              "3    7500.0       4.0        2.0      2.0      yes        no      yes   \n",
              "4    7420.0       4.0        1.0      2.0      yes       yes      yes   \n",
              "..      ...       ...        ...      ...      ...       ...      ...   \n",
              "540  3000.0       2.0        1.0      1.0      yes        no      yes   \n",
              "541  2400.0       3.0        1.0      1.0       no        no       no   \n",
              "542  3620.0       2.0        1.0      1.0      yes        no       no   \n",
              "543  2910.0       3.0        1.0      1.0       no        no       no   \n",
              "544  3850.0       3.0        1.0      2.0      yes        no       no   \n",
              "\n",
              "    hotwaterheating airconditioning  parking furnishingstatus  \n",
              "0                no             yes      2.0        furnished  \n",
              "1                no             yes      3.0        furnished  \n",
              "2                no              no      2.0   semi-furnished  \n",
              "3                no             yes      3.0        furnished  \n",
              "4                no             yes      2.0        furnished  \n",
              "..              ...             ...      ...              ...  \n",
              "540              no              no      2.0      unfurnished  \n",
              "541              no              no      0.0   semi-furnished  \n",
              "542              no              no      0.0      unfurnished  \n",
              "543              no              no      0.0        furnished  \n",
              "544              no              no      0.0      unfurnished  \n",
              "\n",
              "[545 rows x 11 columns]"
            ],
            "text/html": [
              "\n",
              "  <div id=\"df-aafde7ff-65ec-48bc-8ed0-0f484ac0566c\">\n",
              "    <div class=\"colab-df-container\">\n",
              "      <div>\n",
              "<style scoped>\n",
              "    .dataframe tbody tr th:only-of-type {\n",
              "        vertical-align: middle;\n",
              "    }\n",
              "\n",
              "    .dataframe tbody tr th {\n",
              "        vertical-align: top;\n",
              "    }\n",
              "\n",
              "    .dataframe thead th {\n",
              "        text-align: right;\n",
              "    }\n",
              "</style>\n",
              "<table border=\"1\" class=\"dataframe\">\n",
              "  <thead>\n",
              "    <tr style=\"text-align: right;\">\n",
              "      <th></th>\n",
              "      <th>area</th>\n",
              "      <th>bedrooms</th>\n",
              "      <th>bathrooms</th>\n",
              "      <th>stories</th>\n",
              "      <th>mainroad</th>\n",
              "      <th>guestroom</th>\n",
              "      <th>basement</th>\n",
              "      <th>hotwaterheating</th>\n",
              "      <th>airconditioning</th>\n",
              "      <th>parking</th>\n",
              "      <th>furnishingstatus</th>\n",
              "    </tr>\n",
              "  </thead>\n",
              "  <tbody>\n",
              "    <tr>\n",
              "      <th>0</th>\n",
              "      <td>7420.0</td>\n",
              "      <td>4.0</td>\n",
              "      <td>2.0</td>\n",
              "      <td>3.0</td>\n",
              "      <td>yes</td>\n",
              "      <td>no</td>\n",
              "      <td>no</td>\n",
              "      <td>no</td>\n",
              "      <td>yes</td>\n",
              "      <td>2.0</td>\n",
              "      <td>furnished</td>\n",
              "    </tr>\n",
              "    <tr>\n",
              "      <th>1</th>\n",
              "      <td>8960.0</td>\n",
              "      <td>4.0</td>\n",
              "      <td>4.0</td>\n",
              "      <td>4.0</td>\n",
              "      <td>yes</td>\n",
              "      <td>no</td>\n",
              "      <td>no</td>\n",
              "      <td>no</td>\n",
              "      <td>yes</td>\n",
              "      <td>3.0</td>\n",
              "      <td>furnished</td>\n",
              "    </tr>\n",
              "    <tr>\n",
              "      <th>2</th>\n",
              "      <td>9960.0</td>\n",
              "      <td>3.0</td>\n",
              "      <td>2.0</td>\n",
              "      <td>2.0</td>\n",
              "      <td>yes</td>\n",
              "      <td>no</td>\n",
              "      <td>yes</td>\n",
              "      <td>no</td>\n",
              "      <td>no</td>\n",
              "      <td>2.0</td>\n",
              "      <td>semi-furnished</td>\n",
              "    </tr>\n",
              "    <tr>\n",
              "      <th>3</th>\n",
              "      <td>7500.0</td>\n",
              "      <td>4.0</td>\n",
              "      <td>2.0</td>\n",
              "      <td>2.0</td>\n",
              "      <td>yes</td>\n",
              "      <td>no</td>\n",
              "      <td>yes</td>\n",
              "      <td>no</td>\n",
              "      <td>yes</td>\n",
              "      <td>3.0</td>\n",
              "      <td>furnished</td>\n",
              "    </tr>\n",
              "    <tr>\n",
              "      <th>4</th>\n",
              "      <td>7420.0</td>\n",
              "      <td>4.0</td>\n",
              "      <td>1.0</td>\n",
              "      <td>2.0</td>\n",
              "      <td>yes</td>\n",
              "      <td>yes</td>\n",
              "      <td>yes</td>\n",
              "      <td>no</td>\n",
              "      <td>yes</td>\n",
              "      <td>2.0</td>\n",
              "      <td>furnished</td>\n",
              "    </tr>\n",
              "    <tr>\n",
              "      <th>...</th>\n",
              "      <td>...</td>\n",
              "      <td>...</td>\n",
              "      <td>...</td>\n",
              "      <td>...</td>\n",
              "      <td>...</td>\n",
              "      <td>...</td>\n",
              "      <td>...</td>\n",
              "      <td>...</td>\n",
              "      <td>...</td>\n",
              "      <td>...</td>\n",
              "      <td>...</td>\n",
              "    </tr>\n",
              "    <tr>\n",
              "      <th>540</th>\n",
              "      <td>3000.0</td>\n",
              "      <td>2.0</td>\n",
              "      <td>1.0</td>\n",
              "      <td>1.0</td>\n",
              "      <td>yes</td>\n",
              "      <td>no</td>\n",
              "      <td>yes</td>\n",
              "      <td>no</td>\n",
              "      <td>no</td>\n",
              "      <td>2.0</td>\n",
              "      <td>unfurnished</td>\n",
              "    </tr>\n",
              "    <tr>\n",
              "      <th>541</th>\n",
              "      <td>2400.0</td>\n",
              "      <td>3.0</td>\n",
              "      <td>1.0</td>\n",
              "      <td>1.0</td>\n",
              "      <td>no</td>\n",
              "      <td>no</td>\n",
              "      <td>no</td>\n",
              "      <td>no</td>\n",
              "      <td>no</td>\n",
              "      <td>0.0</td>\n",
              "      <td>semi-furnished</td>\n",
              "    </tr>\n",
              "    <tr>\n",
              "      <th>542</th>\n",
              "      <td>3620.0</td>\n",
              "      <td>2.0</td>\n",
              "      <td>1.0</td>\n",
              "      <td>1.0</td>\n",
              "      <td>yes</td>\n",
              "      <td>no</td>\n",
              "      <td>no</td>\n",
              "      <td>no</td>\n",
              "      <td>no</td>\n",
              "      <td>0.0</td>\n",
              "      <td>unfurnished</td>\n",
              "    </tr>\n",
              "    <tr>\n",
              "      <th>543</th>\n",
              "      <td>2910.0</td>\n",
              "      <td>3.0</td>\n",
              "      <td>1.0</td>\n",
              "      <td>1.0</td>\n",
              "      <td>no</td>\n",
              "      <td>no</td>\n",
              "      <td>no</td>\n",
              "      <td>no</td>\n",
              "      <td>no</td>\n",
              "      <td>0.0</td>\n",
              "      <td>furnished</td>\n",
              "    </tr>\n",
              "    <tr>\n",
              "      <th>544</th>\n",
              "      <td>3850.0</td>\n",
              "      <td>3.0</td>\n",
              "      <td>1.0</td>\n",
              "      <td>2.0</td>\n",
              "      <td>yes</td>\n",
              "      <td>no</td>\n",
              "      <td>no</td>\n",
              "      <td>no</td>\n",
              "      <td>no</td>\n",
              "      <td>0.0</td>\n",
              "      <td>unfurnished</td>\n",
              "    </tr>\n",
              "  </tbody>\n",
              "</table>\n",
              "<p>545 rows × 11 columns</p>\n",
              "</div>\n",
              "      <button class=\"colab-df-convert\" onclick=\"convertToInteractive('df-aafde7ff-65ec-48bc-8ed0-0f484ac0566c')\"\n",
              "              title=\"Convert this dataframe to an interactive table.\"\n",
              "              style=\"display:none;\">\n",
              "        \n",
              "  <svg xmlns=\"http://www.w3.org/2000/svg\" height=\"24px\"viewBox=\"0 0 24 24\"\n",
              "       width=\"24px\">\n",
              "    <path d=\"M0 0h24v24H0V0z\" fill=\"none\"/>\n",
              "    <path d=\"M18.56 5.44l.94 2.06.94-2.06 2.06-.94-2.06-.94-.94-2.06-.94 2.06-2.06.94zm-11 1L8.5 8.5l.94-2.06 2.06-.94-2.06-.94L8.5 2.5l-.94 2.06-2.06.94zm10 10l.94 2.06.94-2.06 2.06-.94-2.06-.94-.94-2.06-.94 2.06-2.06.94z\"/><path d=\"M17.41 7.96l-1.37-1.37c-.4-.4-.92-.59-1.43-.59-.52 0-1.04.2-1.43.59L10.3 9.45l-7.72 7.72c-.78.78-.78 2.05 0 2.83L4 21.41c.39.39.9.59 1.41.59.51 0 1.02-.2 1.41-.59l7.78-7.78 2.81-2.81c.8-.78.8-2.07 0-2.86zM5.41 20L4 18.59l7.72-7.72 1.47 1.35L5.41 20z\"/>\n",
              "  </svg>\n",
              "      </button>\n",
              "      \n",
              "  <style>\n",
              "    .colab-df-container {\n",
              "      display:flex;\n",
              "      flex-wrap:wrap;\n",
              "      gap: 12px;\n",
              "    }\n",
              "\n",
              "    .colab-df-convert {\n",
              "      background-color: #E8F0FE;\n",
              "      border: none;\n",
              "      border-radius: 50%;\n",
              "      cursor: pointer;\n",
              "      display: none;\n",
              "      fill: #1967D2;\n",
              "      height: 32px;\n",
              "      padding: 0 0 0 0;\n",
              "      width: 32px;\n",
              "    }\n",
              "\n",
              "    .colab-df-convert:hover {\n",
              "      background-color: #E2EBFA;\n",
              "      box-shadow: 0px 1px 2px rgba(60, 64, 67, 0.3), 0px 1px 3px 1px rgba(60, 64, 67, 0.15);\n",
              "      fill: #174EA6;\n",
              "    }\n",
              "\n",
              "    [theme=dark] .colab-df-convert {\n",
              "      background-color: #3B4455;\n",
              "      fill: #D2E3FC;\n",
              "    }\n",
              "\n",
              "    [theme=dark] .colab-df-convert:hover {\n",
              "      background-color: #434B5C;\n",
              "      box-shadow: 0px 1px 3px 1px rgba(0, 0, 0, 0.15);\n",
              "      filter: drop-shadow(0px 1px 2px rgba(0, 0, 0, 0.3));\n",
              "      fill: #FFFFFF;\n",
              "    }\n",
              "  </style>\n",
              "\n",
              "      <script>\n",
              "        const buttonEl =\n",
              "          document.querySelector('#df-aafde7ff-65ec-48bc-8ed0-0f484ac0566c button.colab-df-convert');\n",
              "        buttonEl.style.display =\n",
              "          google.colab.kernel.accessAllowed ? 'block' : 'none';\n",
              "\n",
              "        async function convertToInteractive(key) {\n",
              "          const element = document.querySelector('#df-aafde7ff-65ec-48bc-8ed0-0f484ac0566c');\n",
              "          const dataTable =\n",
              "            await google.colab.kernel.invokeFunction('convertToInteractive',\n",
              "                                                     [key], {});\n",
              "          if (!dataTable) return;\n",
              "\n",
              "          const docLinkHtml = 'Like what you see? Visit the ' +\n",
              "            '<a target=\"_blank\" href=https://colab.research.google.com/notebooks/data_table.ipynb>data table notebook</a>'\n",
              "            + ' to learn more about interactive tables.';\n",
              "          element.innerHTML = '';\n",
              "          dataTable['output_type'] = 'display_data';\n",
              "          await google.colab.output.renderOutput(dataTable, element);\n",
              "          const docLink = document.createElement('div');\n",
              "          docLink.innerHTML = docLinkHtml;\n",
              "          element.appendChild(docLink);\n",
              "        }\n",
              "      </script>\n",
              "    </div>\n",
              "  </div>\n",
              "  "
            ]
          },
          "metadata": {},
          "execution_count": 15
        }
      ],
      "source": [
        "independent_data=data_no_outliers.drop('price',axis=1)\n",
        "independent_data"
      ]
    },
    {
      "cell_type": "markdown",
      "id": "3295d567",
      "metadata": {
        "id": "3295d567"
      },
      "source": [
        "### Scaling the independent data"
      ]
    },
    {
      "cell_type": "code",
      "execution_count": 23,
      "id": "80fb2add",
      "metadata": {
        "colab": {
          "base_uri": "https://localhost:8080/",
          "height": 424
        },
        "id": "80fb2add",
        "outputId": "a682a45e-a157-4ddd-9533-003bb9bb9091"
      },
      "outputs": [
        {
          "output_type": "execute_result",
          "data": {
            "text/plain": [
              "       area  bedrooms  bathrooms  stories  parking\n",
              "0    7420.0       4.0        2.0      3.0      2.0\n",
              "1    8960.0       4.0        4.0      4.0      3.0\n",
              "2    9960.0       3.0        2.0      2.0      2.0\n",
              "3    7500.0       4.0        2.0      2.0      3.0\n",
              "4    7420.0       4.0        1.0      2.0      2.0\n",
              "..      ...       ...        ...      ...      ...\n",
              "540  3000.0       2.0        1.0      1.0      2.0\n",
              "541  2400.0       3.0        1.0      1.0      0.0\n",
              "542  3620.0       2.0        1.0      1.0      0.0\n",
              "543  2910.0       3.0        1.0      1.0      0.0\n",
              "544  3850.0       3.0        1.0      2.0      0.0\n",
              "\n",
              "[545 rows x 5 columns]"
            ],
            "text/html": [
              "\n",
              "  <div id=\"df-5670ba93-57b3-4811-93f3-e52337bb7e76\">\n",
              "    <div class=\"colab-df-container\">\n",
              "      <div>\n",
              "<style scoped>\n",
              "    .dataframe tbody tr th:only-of-type {\n",
              "        vertical-align: middle;\n",
              "    }\n",
              "\n",
              "    .dataframe tbody tr th {\n",
              "        vertical-align: top;\n",
              "    }\n",
              "\n",
              "    .dataframe thead th {\n",
              "        text-align: right;\n",
              "    }\n",
              "</style>\n",
              "<table border=\"1\" class=\"dataframe\">\n",
              "  <thead>\n",
              "    <tr style=\"text-align: right;\">\n",
              "      <th></th>\n",
              "      <th>area</th>\n",
              "      <th>bedrooms</th>\n",
              "      <th>bathrooms</th>\n",
              "      <th>stories</th>\n",
              "      <th>parking</th>\n",
              "    </tr>\n",
              "  </thead>\n",
              "  <tbody>\n",
              "    <tr>\n",
              "      <th>0</th>\n",
              "      <td>7420.0</td>\n",
              "      <td>4.0</td>\n",
              "      <td>2.0</td>\n",
              "      <td>3.0</td>\n",
              "      <td>2.0</td>\n",
              "    </tr>\n",
              "    <tr>\n",
              "      <th>1</th>\n",
              "      <td>8960.0</td>\n",
              "      <td>4.0</td>\n",
              "      <td>4.0</td>\n",
              "      <td>4.0</td>\n",
              "      <td>3.0</td>\n",
              "    </tr>\n",
              "    <tr>\n",
              "      <th>2</th>\n",
              "      <td>9960.0</td>\n",
              "      <td>3.0</td>\n",
              "      <td>2.0</td>\n",
              "      <td>2.0</td>\n",
              "      <td>2.0</td>\n",
              "    </tr>\n",
              "    <tr>\n",
              "      <th>3</th>\n",
              "      <td>7500.0</td>\n",
              "      <td>4.0</td>\n",
              "      <td>2.0</td>\n",
              "      <td>2.0</td>\n",
              "      <td>3.0</td>\n",
              "    </tr>\n",
              "    <tr>\n",
              "      <th>4</th>\n",
              "      <td>7420.0</td>\n",
              "      <td>4.0</td>\n",
              "      <td>1.0</td>\n",
              "      <td>2.0</td>\n",
              "      <td>2.0</td>\n",
              "    </tr>\n",
              "    <tr>\n",
              "      <th>...</th>\n",
              "      <td>...</td>\n",
              "      <td>...</td>\n",
              "      <td>...</td>\n",
              "      <td>...</td>\n",
              "      <td>...</td>\n",
              "    </tr>\n",
              "    <tr>\n",
              "      <th>540</th>\n",
              "      <td>3000.0</td>\n",
              "      <td>2.0</td>\n",
              "      <td>1.0</td>\n",
              "      <td>1.0</td>\n",
              "      <td>2.0</td>\n",
              "    </tr>\n",
              "    <tr>\n",
              "      <th>541</th>\n",
              "      <td>2400.0</td>\n",
              "      <td>3.0</td>\n",
              "      <td>1.0</td>\n",
              "      <td>1.0</td>\n",
              "      <td>0.0</td>\n",
              "    </tr>\n",
              "    <tr>\n",
              "      <th>542</th>\n",
              "      <td>3620.0</td>\n",
              "      <td>2.0</td>\n",
              "      <td>1.0</td>\n",
              "      <td>1.0</td>\n",
              "      <td>0.0</td>\n",
              "    </tr>\n",
              "    <tr>\n",
              "      <th>543</th>\n",
              "      <td>2910.0</td>\n",
              "      <td>3.0</td>\n",
              "      <td>1.0</td>\n",
              "      <td>1.0</td>\n",
              "      <td>0.0</td>\n",
              "    </tr>\n",
              "    <tr>\n",
              "      <th>544</th>\n",
              "      <td>3850.0</td>\n",
              "      <td>3.0</td>\n",
              "      <td>1.0</td>\n",
              "      <td>2.0</td>\n",
              "      <td>0.0</td>\n",
              "    </tr>\n",
              "  </tbody>\n",
              "</table>\n",
              "<p>545 rows × 5 columns</p>\n",
              "</div>\n",
              "      <button class=\"colab-df-convert\" onclick=\"convertToInteractive('df-5670ba93-57b3-4811-93f3-e52337bb7e76')\"\n",
              "              title=\"Convert this dataframe to an interactive table.\"\n",
              "              style=\"display:none;\">\n",
              "        \n",
              "  <svg xmlns=\"http://www.w3.org/2000/svg\" height=\"24px\"viewBox=\"0 0 24 24\"\n",
              "       width=\"24px\">\n",
              "    <path d=\"M0 0h24v24H0V0z\" fill=\"none\"/>\n",
              "    <path d=\"M18.56 5.44l.94 2.06.94-2.06 2.06-.94-2.06-.94-.94-2.06-.94 2.06-2.06.94zm-11 1L8.5 8.5l.94-2.06 2.06-.94-2.06-.94L8.5 2.5l-.94 2.06-2.06.94zm10 10l.94 2.06.94-2.06 2.06-.94-2.06-.94-.94-2.06-.94 2.06-2.06.94z\"/><path d=\"M17.41 7.96l-1.37-1.37c-.4-.4-.92-.59-1.43-.59-.52 0-1.04.2-1.43.59L10.3 9.45l-7.72 7.72c-.78.78-.78 2.05 0 2.83L4 21.41c.39.39.9.59 1.41.59.51 0 1.02-.2 1.41-.59l7.78-7.78 2.81-2.81c.8-.78.8-2.07 0-2.86zM5.41 20L4 18.59l7.72-7.72 1.47 1.35L5.41 20z\"/>\n",
              "  </svg>\n",
              "      </button>\n",
              "      \n",
              "  <style>\n",
              "    .colab-df-container {\n",
              "      display:flex;\n",
              "      flex-wrap:wrap;\n",
              "      gap: 12px;\n",
              "    }\n",
              "\n",
              "    .colab-df-convert {\n",
              "      background-color: #E8F0FE;\n",
              "      border: none;\n",
              "      border-radius: 50%;\n",
              "      cursor: pointer;\n",
              "      display: none;\n",
              "      fill: #1967D2;\n",
              "      height: 32px;\n",
              "      padding: 0 0 0 0;\n",
              "      width: 32px;\n",
              "    }\n",
              "\n",
              "    .colab-df-convert:hover {\n",
              "      background-color: #E2EBFA;\n",
              "      box-shadow: 0px 1px 2px rgba(60, 64, 67, 0.3), 0px 1px 3px 1px rgba(60, 64, 67, 0.15);\n",
              "      fill: #174EA6;\n",
              "    }\n",
              "\n",
              "    [theme=dark] .colab-df-convert {\n",
              "      background-color: #3B4455;\n",
              "      fill: #D2E3FC;\n",
              "    }\n",
              "\n",
              "    [theme=dark] .colab-df-convert:hover {\n",
              "      background-color: #434B5C;\n",
              "      box-shadow: 0px 1px 3px 1px rgba(0, 0, 0, 0.15);\n",
              "      filter: drop-shadow(0px 1px 2px rgba(0, 0, 0, 0.3));\n",
              "      fill: #FFFFFF;\n",
              "    }\n",
              "  </style>\n",
              "\n",
              "      <script>\n",
              "        const buttonEl =\n",
              "          document.querySelector('#df-5670ba93-57b3-4811-93f3-e52337bb7e76 button.colab-df-convert');\n",
              "        buttonEl.style.display =\n",
              "          google.colab.kernel.accessAllowed ? 'block' : 'none';\n",
              "\n",
              "        async function convertToInteractive(key) {\n",
              "          const element = document.querySelector('#df-5670ba93-57b3-4811-93f3-e52337bb7e76');\n",
              "          const dataTable =\n",
              "            await google.colab.kernel.invokeFunction('convertToInteractive',\n",
              "                                                     [key], {});\n",
              "          if (!dataTable) return;\n",
              "\n",
              "          const docLinkHtml = 'Like what you see? Visit the ' +\n",
              "            '<a target=\"_blank\" href=https://colab.research.google.com/notebooks/data_table.ipynb>data table notebook</a>'\n",
              "            + ' to learn more about interactive tables.';\n",
              "          element.innerHTML = '';\n",
              "          dataTable['output_type'] = 'display_data';\n",
              "          await google.colab.output.renderOutput(dataTable, element);\n",
              "          const docLink = document.createElement('div');\n",
              "          docLink.innerHTML = docLinkHtml;\n",
              "          element.appendChild(docLink);\n",
              "        }\n",
              "      </script>\n",
              "    </div>\n",
              "  </div>\n",
              "  "
            ]
          },
          "metadata": {},
          "execution_count": 23
        }
      ],
      "source": [
        "independent_var=independent_data.select_dtypes('number')\n",
        "independent_var"
      ]
    },
    {
      "cell_type": "code",
      "execution_count": 24,
      "id": "a727c158",
      "metadata": {
        "colab": {
          "base_uri": "https://localhost:8080/"
        },
        "id": "a727c158",
        "outputId": "0ec2e275-af0b-476a-d545-9f481c4b419c"
      },
      "outputs": [
        {
          "output_type": "execute_result",
          "data": {
            "text/plain": [
              "array([[ 1.04672629,  1.40341936,  1.42181174,  1.37821692,  1.51769249],\n",
              "       [ 1.75700953,  1.40341936,  5.40580863,  2.53202371,  2.67940935],\n",
              "       [ 2.21823241,  0.04727831,  1.42181174,  0.22441013,  1.51769249],\n",
              "       ...,\n",
              "       [-0.70592066, -1.30886273, -0.57018671, -0.92939666, -0.80574124],\n",
              "       [-1.03338891,  0.04727831, -0.57018671, -0.92939666, -0.80574124],\n",
              "       [-0.5998394 ,  0.04727831, -0.57018671,  0.22441013, -0.80574124]])"
            ]
          },
          "metadata": {},
          "execution_count": 24
        }
      ],
      "source": [
        "sclr=StandardScaler()\n",
        "scaled=sclr.fit_transform(independent_var)\n",
        "scaled"
      ]
    },
    {
      "cell_type": "markdown",
      "id": "d21ffa08",
      "metadata": {
        "id": "d21ffa08"
      },
      "source": [
        "### Splitting the data into Training and Testing data"
      ]
    },
    {
      "cell_type": "code",
      "execution_count": 25,
      "id": "e9c23b82",
      "metadata": {
        "id": "e9c23b82"
      },
      "outputs": [],
      "source": [
        "x_train,x_test,y_train,y_test=train_test_split(scaled,dependent_data,test_size=0.2,random_state=10)"
      ]
    },
    {
      "cell_type": "code",
      "execution_count": 26,
      "id": "fc73a692",
      "metadata": {
        "colab": {
          "base_uri": "https://localhost:8080/"
        },
        "id": "fc73a692",
        "outputId": "8aa00e1d-5787-4f6e-b5f7-58fc21e8e9f9"
      },
      "outputs": [
        {
          "output_type": "execute_result",
          "data": {
            "text/plain": [
              "array([[-0.38306464,  0.04727831, -0.57018671, -0.92939666,  0.35597563],\n",
              "       [ 0.11505607,  0.04727831, -0.57018671, -0.92939666,  2.67940935],\n",
              "       [-1.07628264,  1.40341936,  1.42181174,  0.22441013,  0.35597563],\n",
              "       ...,\n",
              "       [-1.52874228, -1.30886273, -0.57018671, -0.92939666, -0.80574124],\n",
              "       [ 4.81952946,  0.04727831, -0.57018671, -0.92939666,  1.51769249],\n",
              "       [-1.04722559,  0.04727831, -0.57018671,  0.22441013, -0.80574124]])"
            ]
          },
          "metadata": {},
          "execution_count": 26
        }
      ],
      "source": [
        "x_train"
      ]
    },
    {
      "cell_type": "code",
      "execution_count": 27,
      "id": "4b1ea818",
      "metadata": {
        "colab": {
          "base_uri": "https://localhost:8080/"
        },
        "id": "4b1ea818",
        "outputId": "7ad80823-7662-4925-b5c5-8f42daee3529"
      },
      "outputs": [
        {
          "output_type": "execute_result",
          "data": {
            "text/plain": [
              "array([[-0.92269542,  0.04727831, -0.57018671,  0.22441013, -0.80574124],\n",
              "       [-0.51220705, -1.30886273, -0.57018671,  0.22441013,  0.35597563],\n",
              "       [-0.30004453,  1.40341936,  1.42181174,  0.22441013,  1.51769249],\n",
              "       [ 0.11505607,  1.40341936, -0.57018671,  0.22441013, -0.80574124],\n",
              "       [ 0.3917898 ,  1.40341936,  1.42181174,  2.53202371,  1.51769249],\n",
              "       [ 0.71925804,  0.04727831,  1.42181174,  0.22441013,  0.35597563],\n",
              "       [ 1.1758687 , -1.30886273, -0.57018671, -0.92939666, -0.80574124],\n",
              "       [-0.71514512,  0.04727831, -0.57018671,  0.22441013,  0.35597563],\n",
              "       [-1.08412342,  0.04727831,  1.42181174,  0.22441013,  0.35597563],\n",
              "       [-0.65979837, -1.30886273, -0.57018671, -0.92939666, -0.80574124],\n",
              "       [ 0.3917898 ,  0.04727831, -0.57018671, -0.92939666,  0.35597563],\n",
              "       [-0.69900232, -1.30886273, -0.57018671, -0.92939666, -0.80574124],\n",
              "       [-1.44618339,  0.04727831, -0.57018671,  0.22441013, -0.80574124],\n",
              "       [-0.41996247,  0.04727831, -0.57018671,  0.22441013, -0.80574124],\n",
              "       [ 0.78936392,  0.04727831, -0.57018671,  0.22441013,  1.51769249],\n",
              "       [-1.15791909, -1.30886273, -0.57018671, -0.92939666,  0.35597563],\n",
              "       [ 1.68321386,  0.04727831,  1.42181174,  0.22441013,  1.51769249],\n",
              "       [ 0.43791208,  0.04727831, -0.57018671,  1.37821692, -0.80574124],\n",
              "       [-0.2954323 ,  1.40341936,  1.42181174,  0.22441013, -0.80574124],\n",
              "       [ 0.59934009,  1.40341936, -0.57018671,  0.22441013, -0.80574124],\n",
              "       [-0.70130843, -1.30886273, -0.57018671, -0.92939666, -0.80574124],\n",
              "       [-1.03338891, -1.30886273, -0.57018671, -0.92939666, -0.80574124],\n",
              "       [ 2.55953734,  0.04727831, -0.57018671,  0.22441013, -0.80574124],\n",
              "       [ 0.59472786, -1.30886273, -0.57018671, -0.92939666,  2.67940935],\n",
              "       [ 0.11505607,  2.7595604 , -0.57018671,  0.22441013, -0.80574124],\n",
              "       [ 0.77229867,  0.04727831, -0.57018671, -0.92939666, -0.80574124],\n",
              "       [-0.64134946,  0.04727831, -0.57018671, -0.92939666,  1.51769249],\n",
              "       [ 0.55783003, -1.30886273, -0.57018671,  0.22441013, -0.80574124],\n",
              "       [-0.53065597, -1.30886273, -0.57018671, -0.92939666, -0.80574124],\n",
              "       [-0.54449265,  0.04727831, -0.57018671,  0.22441013, -0.80574124],\n",
              "       [-1.38622441,  0.04727831, -0.57018671,  0.22441013, -0.80574124],\n",
              "       [-0.99187885,  0.04727831,  1.42181174,  0.22441013, -0.80574124],\n",
              "       [ 1.42954128,  0.04727831, -0.57018671, -0.92939666,  2.67940935],\n",
              "       [ 0.58550341,  0.04727831, -0.57018671,  1.37821692, -0.80574124],\n",
              "       [ 1.7201117 ,  0.04727831,  1.42181174,  0.22441013,  0.35597563],\n",
              "       [ 0.7607681 , -1.30886273, -0.57018671, -0.92939666,  1.51769249],\n",
              "       [ 0.25342293,  0.04727831, -0.57018671, -0.92939666,  1.51769249],\n",
              "       [-1.13024571, -1.30886273, -0.57018671, -0.92939666, -0.80574124],\n",
              "       [ 0.66852353,  0.04727831, -0.57018671, -0.92939666, -0.80574124],\n",
              "       [-0.25392224, -1.30886273,  1.42181174, -0.92939666,  1.51769249],\n",
              "       [-0.05098417,  0.04727831, -0.57018671,  0.22441013, -0.80574124],\n",
              "       [ 0.31245946,  1.40341936, -0.57018671,  2.53202371, -0.80574124],\n",
              "       [-1.26861258,  0.04727831, -0.57018671,  0.22441013, -0.80574124],\n",
              "       [ 0.66852353,  0.04727831,  1.42181174, -0.92939666, -0.80574124],\n",
              "       [ 0.80689039,  0.04727831,  1.42181174, -0.92939666, -0.80574124],\n",
              "       [ 0.66852353,  0.04727831, -0.57018671,  2.53202371,  2.67940935],\n",
              "       [ 5.09626319,  2.7595604 ,  3.41381019,  0.22441013, -0.80574124],\n",
              "       [-0.34616681,  1.40341936, -0.57018671,  0.22441013,  1.51769249],\n",
              "       [-0.75573273, -1.30886273, -0.57018671, -0.92939666,  0.35597563],\n",
              "       [-0.69208397,  0.04727831,  1.42181174,  0.22441013,  1.51769249],\n",
              "       [-0.99187885,  0.04727831, -0.57018671,  0.22441013, -0.80574124],\n",
              "       [ 0.53984234,  0.04727831, -0.57018671,  0.22441013,  0.35597563],\n",
              "       [-0.087882  ,  1.40341936, -0.57018671,  1.37821692, -0.80574124],\n",
              "       [-0.91716074,  0.04727831, -0.57018671,  0.22441013,  0.35597563],\n",
              "       [-0.18473881, -1.30886273, -0.57018671, -0.92939666, -0.80574124],\n",
              "       [ 1.35113339,  0.04727831, -0.57018671, -0.92939666,  1.51769249],\n",
              "       [-0.71514512,  0.04727831, -0.57018671, -0.92939666, -0.80574124],\n",
              "       [ 0.40101425,  0.04727831, -0.57018671, -0.92939666, -0.80574124],\n",
              "       [-0.16167766, -1.30886273, -0.57018671, -0.92939666, -0.80574124],\n",
              "       [-1.06106228,  0.04727831,  1.42181174,  0.22441013, -0.80574124],\n",
              "       [-0.40151356, -1.30886273, -0.57018671, -0.92939666,  1.51769249],\n",
              "       [-0.15475932, -1.30886273, -0.57018671, -0.92939666, -0.80574124],\n",
              "       [-0.8073897 ,  0.04727831, -0.57018671,  0.22441013,  1.51769249],\n",
              "       [-0.54910488,  0.04727831, -0.57018671,  0.22441013, -0.80574124],\n",
              "       [ 0.67544187,  0.04727831, -0.57018671,  0.22441013, -0.80574124],\n",
              "       [ 0.55783003,  0.04727831, -0.57018671, -0.92939666,  1.51769249],\n",
              "       [-0.50759482, -1.30886273, -0.57018671, -0.92939666, -0.80574124],\n",
              "       [-1.08412342,  0.04727831, -0.57018671, -0.92939666, -0.80574124],\n",
              "       [-0.90885873, -1.30886273, -0.57018671, -0.92939666, -0.80574124],\n",
              "       [ 0.16117836,  0.04727831,  1.42181174,  2.53202371,  0.35597563],\n",
              "       [-0.75204295, -1.30886273,  1.42181174, -0.92939666, -0.80574124],\n",
              "       [ 2.46729276,  1.40341936,  1.42181174,  0.22441013,  0.35597563],\n",
              "       [ 0.94525725,  0.04727831, -0.57018671,  0.22441013,  0.35597563],\n",
              "       [ 0.55783003, -1.30886273, -0.57018671, -0.92939666, -0.80574124],\n",
              "       [-0.30004453, -1.30886273, -0.57018671, -0.92939666, -0.80574124],\n",
              "       [-0.90885873,  0.04727831, -0.57018671,  0.22441013, -0.80574124],\n",
              "       [-1.39083664,  0.04727831,  1.42181174,  0.22441013, -0.80574124],\n",
              "       [ 1.3050111 ,  0.04727831, -0.57018671, -0.92939666,  0.35597563],\n",
              "       [ 1.58174483,  1.40341936,  3.41381019,  2.53202371,  1.51769249],\n",
              "       [-0.23916311,  1.40341936, -0.57018671,  0.22441013, -0.80574124],\n",
              "       [ 1.49872471,  0.04727831, -0.57018671,  0.22441013,  1.51769249],\n",
              "       [ 0.34566751,  1.40341936,  1.42181174,  0.22441013,  0.35597563],\n",
              "       [-0.97527482,  0.04727831, -0.57018671,  0.22441013, -0.80574124],\n",
              "       [-1.61452974,  0.04727831, -0.57018671,  0.22441013, -0.80574124],\n",
              "       [-0.6966962 ,  0.04727831,  1.42181174,  0.22441013, -0.80574124],\n",
              "       [-1.03338891,  0.04727831, -0.57018671, -0.92939666, -0.80574124],\n",
              "       [ 3.59452149,  0.04727831, -0.57018671, -0.92939666, -0.80574124],\n",
              "       [ 1.75700953,  1.40341936,  5.40580863,  2.53202371,  2.67940935],\n",
              "       [ 0.73770696, -1.30886273, -0.57018671, -0.92939666,  1.51769249],\n",
              "       [-0.95036879, -1.30886273, -0.57018671, -0.92939666, -0.80574124],\n",
              "       [ 1.38341899,  0.04727831,  1.42181174, -0.92939666, -0.80574124],\n",
              "       [-0.77049186,  0.04727831, -0.57018671,  0.22441013,  0.35597563],\n",
              "       [ 1.12974641,  1.40341936, -0.57018671,  0.22441013,  1.51769249],\n",
              "       [-0.06020863,  0.04727831, -0.57018671,  2.53202371, -0.80574124],\n",
              "       [-0.88118536,  0.04727831, -0.57018671,  0.22441013,  1.51769249],\n",
              "       [-0.64596169, -1.30886273, -0.57018671, -0.92939666, -0.80574124],\n",
              "       [-0.34616681, -1.30886273, -0.57018671, -0.92939666,  0.35597563],\n",
              "       [ 1.04211406,  0.04727831, -0.57018671, -0.92939666,  1.51769249],\n",
              "       [-0.90885873,  0.04727831,  1.42181174,  0.22441013,  1.51769249],\n",
              "       [ 0.09660715,  0.04727831, -0.57018671,  0.22441013,  1.51769249],\n",
              "       [ 0.3917898 , -1.30886273, -0.57018671, -0.92939666,  0.35597563],\n",
              "       [-0.90655261, -1.30886273, -0.57018671, -0.92939666,  1.51769249],\n",
              "       [ 2.17211012,  0.04727831, -0.57018671, -0.92939666, -0.80574124],\n",
              "       [-0.12477983,  0.04727831, -0.57018671, -0.92939666,  1.51769249],\n",
              "       [ 0.66852353,  0.04727831,  1.42181174,  1.37821692, -0.80574124],\n",
              "       [-0.49375814,  0.04727831, -0.57018671,  0.22441013,  1.51769249],\n",
              "       [ 1.01444069, -1.30886273, -0.57018671, -0.92939666,  0.35597563],\n",
              "       [-0.36922796, -1.30886273, -0.57018671, -0.92939666, -0.80574124],\n",
              "       [ 0.06893378,  1.40341936,  1.42181174, -0.92939666, -0.80574124]])"
            ]
          },
          "metadata": {},
          "execution_count": 27
        }
      ],
      "source": [
        "x_test"
      ]
    },
    {
      "cell_type": "code",
      "execution_count": 28,
      "id": "eb784508",
      "metadata": {
        "colab": {
          "base_uri": "https://localhost:8080/"
        },
        "id": "eb784508",
        "outputId": "c6c8a0e6-2552-4fdd-a4e9-64e10b941f2d"
      },
      "outputs": [
        {
          "output_type": "execute_result",
          "data": {
            "text/plain": [
              "443    3220000.0\n",
              "323    4025000.0\n",
              "157    5495000.0\n",
              "231    4690000.0\n",
              "351    3780000.0\n",
              "         ...    \n",
              "369    3675000.0\n",
              "320    4060000.0\n",
              "527    2275000.0\n",
              "125    5943000.0\n",
              "265    4403000.0\n",
              "Name: price, Length: 436, dtype: float64"
            ]
          },
          "metadata": {},
          "execution_count": 28
        }
      ],
      "source": [
        "y_train"
      ]
    },
    {
      "cell_type": "code",
      "execution_count": 29,
      "id": "cd1975b7",
      "metadata": {
        "colab": {
          "base_uri": "https://localhost:8080/"
        },
        "id": "cd1975b7",
        "outputId": "ba18385d-580f-43ee-e4c6-60cd52225212"
      },
      "outputs": [
        {
          "output_type": "execute_result",
          "data": {
            "text/plain": [
              "482    2940000.0\n",
              "314    4095000.0\n",
              "383    3570000.0\n",
              "487    2870000.0\n",
              "43     7700000.0\n",
              "         ...    \n",
              "98     6293000.0\n",
              "307    4165000.0\n",
              "399    3500000.0\n",
              "214    4865000.0\n",
              "173    5250000.0\n",
              "Name: price, Length: 109, dtype: float64"
            ]
          },
          "metadata": {},
          "execution_count": 29
        }
      ],
      "source": [
        "y_test"
      ]
    },
    {
      "cell_type": "markdown",
      "id": "1a1c0fb4",
      "metadata": {
        "id": "1a1c0fb4"
      },
      "source": [
        "### Creating the model"
      ]
    },
    {
      "cell_type": "code",
      "execution_count": 30,
      "id": "9955dc1f",
      "metadata": {
        "id": "9955dc1f"
      },
      "outputs": [],
      "source": [
        "from sklearn.preprocessing import StandardScaler\n",
        "from sklearn.linear_model import LinearRegression\n",
        "from sklearn.linear_model import LogisticRegression\n",
        "from sklearn.ensemble import RandomForestRegressor\n",
        "from sklearn.tree import DecisionTreeClassifier\n",
        "from sklearn.svm import SVR"
      ]
    },
    {
      "cell_type": "code",
      "execution_count": 31,
      "id": "6c3371af",
      "metadata": {
        "id": "6c3371af"
      },
      "outputs": [],
      "source": [
        "model1=LinearRegression()\n",
        "model2=LogisticRegression()\n",
        "model3=RandomForestRegressor(random_state=42)\n",
        "model4=DecisionTreeClassifier(criterion='entropy',random_state=0)\n",
        "model5=SVR()"
      ]
    },
    {
      "cell_type": "markdown",
      "id": "87c05032",
      "metadata": {
        "id": "87c05032"
      },
      "source": [
        "### Training the models"
      ]
    },
    {
      "cell_type": "code",
      "execution_count": 32,
      "id": "c0466cac",
      "metadata": {
        "colab": {
          "base_uri": "https://localhost:8080/",
          "height": 75
        },
        "id": "c0466cac",
        "outputId": "c765be65-9f0e-42b9-8bd3-2670f420db4f"
      },
      "outputs": [
        {
          "output_type": "execute_result",
          "data": {
            "text/plain": [
              "LinearRegression()"
            ],
            "text/html": [
              "<style>#sk-container-id-1 {color: black;background-color: white;}#sk-container-id-1 pre{padding: 0;}#sk-container-id-1 div.sk-toggleable {background-color: white;}#sk-container-id-1 label.sk-toggleable__label {cursor: pointer;display: block;width: 100%;margin-bottom: 0;padding: 0.3em;box-sizing: border-box;text-align: center;}#sk-container-id-1 label.sk-toggleable__label-arrow:before {content: \"▸\";float: left;margin-right: 0.25em;color: #696969;}#sk-container-id-1 label.sk-toggleable__label-arrow:hover:before {color: black;}#sk-container-id-1 div.sk-estimator:hover label.sk-toggleable__label-arrow:before {color: black;}#sk-container-id-1 div.sk-toggleable__content {max-height: 0;max-width: 0;overflow: hidden;text-align: left;background-color: #f0f8ff;}#sk-container-id-1 div.sk-toggleable__content pre {margin: 0.2em;color: black;border-radius: 0.25em;background-color: #f0f8ff;}#sk-container-id-1 input.sk-toggleable__control:checked~div.sk-toggleable__content {max-height: 200px;max-width: 100%;overflow: auto;}#sk-container-id-1 input.sk-toggleable__control:checked~label.sk-toggleable__label-arrow:before {content: \"▾\";}#sk-container-id-1 div.sk-estimator input.sk-toggleable__control:checked~label.sk-toggleable__label {background-color: #d4ebff;}#sk-container-id-1 div.sk-label input.sk-toggleable__control:checked~label.sk-toggleable__label {background-color: #d4ebff;}#sk-container-id-1 input.sk-hidden--visually {border: 0;clip: rect(1px 1px 1px 1px);clip: rect(1px, 1px, 1px, 1px);height: 1px;margin: -1px;overflow: hidden;padding: 0;position: absolute;width: 1px;}#sk-container-id-1 div.sk-estimator {font-family: monospace;background-color: #f0f8ff;border: 1px dotted black;border-radius: 0.25em;box-sizing: border-box;margin-bottom: 0.5em;}#sk-container-id-1 div.sk-estimator:hover {background-color: #d4ebff;}#sk-container-id-1 div.sk-parallel-item::after {content: \"\";width: 100%;border-bottom: 1px solid gray;flex-grow: 1;}#sk-container-id-1 div.sk-label:hover label.sk-toggleable__label {background-color: #d4ebff;}#sk-container-id-1 div.sk-serial::before {content: \"\";position: absolute;border-left: 1px solid gray;box-sizing: border-box;top: 0;bottom: 0;left: 50%;z-index: 0;}#sk-container-id-1 div.sk-serial {display: flex;flex-direction: column;align-items: center;background-color: white;padding-right: 0.2em;padding-left: 0.2em;position: relative;}#sk-container-id-1 div.sk-item {position: relative;z-index: 1;}#sk-container-id-1 div.sk-parallel {display: flex;align-items: stretch;justify-content: center;background-color: white;position: relative;}#sk-container-id-1 div.sk-item::before, #sk-container-id-1 div.sk-parallel-item::before {content: \"\";position: absolute;border-left: 1px solid gray;box-sizing: border-box;top: 0;bottom: 0;left: 50%;z-index: -1;}#sk-container-id-1 div.sk-parallel-item {display: flex;flex-direction: column;z-index: 1;position: relative;background-color: white;}#sk-container-id-1 div.sk-parallel-item:first-child::after {align-self: flex-end;width: 50%;}#sk-container-id-1 div.sk-parallel-item:last-child::after {align-self: flex-start;width: 50%;}#sk-container-id-1 div.sk-parallel-item:only-child::after {width: 0;}#sk-container-id-1 div.sk-dashed-wrapped {border: 1px dashed gray;margin: 0 0.4em 0.5em 0.4em;box-sizing: border-box;padding-bottom: 0.4em;background-color: white;}#sk-container-id-1 div.sk-label label {font-family: monospace;font-weight: bold;display: inline-block;line-height: 1.2em;}#sk-container-id-1 div.sk-label-container {text-align: center;}#sk-container-id-1 div.sk-container {/* jupyter's `normalize.less` sets `[hidden] { display: none; }` but bootstrap.min.css set `[hidden] { display: none !important; }` so we also need the `!important` here to be able to override the default hidden behavior on the sphinx rendered scikit-learn.org. See: https://github.com/scikit-learn/scikit-learn/issues/21755 */display: inline-block !important;position: relative;}#sk-container-id-1 div.sk-text-repr-fallback {display: none;}</style><div id=\"sk-container-id-1\" class=\"sk-top-container\"><div class=\"sk-text-repr-fallback\"><pre>LinearRegression()</pre><b>In a Jupyter environment, please rerun this cell to show the HTML representation or trust the notebook. <br />On GitHub, the HTML representation is unable to render, please try loading this page with nbviewer.org.</b></div><div class=\"sk-container\" hidden><div class=\"sk-item\"><div class=\"sk-estimator sk-toggleable\"><input class=\"sk-toggleable__control sk-hidden--visually\" id=\"sk-estimator-id-1\" type=\"checkbox\" checked><label for=\"sk-estimator-id-1\" class=\"sk-toggleable__label sk-toggleable__label-arrow\">LinearRegression</label><div class=\"sk-toggleable__content\"><pre>LinearRegression()</pre></div></div></div></div></div>"
            ]
          },
          "metadata": {},
          "execution_count": 32
        }
      ],
      "source": [
        "model1.fit(x_train,y_train)"
      ]
    },
    {
      "cell_type": "code",
      "execution_count": 33,
      "id": "eda508ed",
      "metadata": {
        "colab": {
          "base_uri": "https://localhost:8080/",
          "height": 75
        },
        "id": "eda508ed",
        "outputId": "606d96f1-f757-4e70-9423-20dbda9ad16f"
      },
      "outputs": [
        {
          "output_type": "execute_result",
          "data": {
            "text/plain": [
              "LogisticRegression()"
            ],
            "text/html": [
              "<style>#sk-container-id-2 {color: black;background-color: white;}#sk-container-id-2 pre{padding: 0;}#sk-container-id-2 div.sk-toggleable {background-color: white;}#sk-container-id-2 label.sk-toggleable__label {cursor: pointer;display: block;width: 100%;margin-bottom: 0;padding: 0.3em;box-sizing: border-box;text-align: center;}#sk-container-id-2 label.sk-toggleable__label-arrow:before {content: \"▸\";float: left;margin-right: 0.25em;color: #696969;}#sk-container-id-2 label.sk-toggleable__label-arrow:hover:before {color: black;}#sk-container-id-2 div.sk-estimator:hover label.sk-toggleable__label-arrow:before {color: black;}#sk-container-id-2 div.sk-toggleable__content {max-height: 0;max-width: 0;overflow: hidden;text-align: left;background-color: #f0f8ff;}#sk-container-id-2 div.sk-toggleable__content pre {margin: 0.2em;color: black;border-radius: 0.25em;background-color: #f0f8ff;}#sk-container-id-2 input.sk-toggleable__control:checked~div.sk-toggleable__content {max-height: 200px;max-width: 100%;overflow: auto;}#sk-container-id-2 input.sk-toggleable__control:checked~label.sk-toggleable__label-arrow:before {content: \"▾\";}#sk-container-id-2 div.sk-estimator input.sk-toggleable__control:checked~label.sk-toggleable__label {background-color: #d4ebff;}#sk-container-id-2 div.sk-label input.sk-toggleable__control:checked~label.sk-toggleable__label {background-color: #d4ebff;}#sk-container-id-2 input.sk-hidden--visually {border: 0;clip: rect(1px 1px 1px 1px);clip: rect(1px, 1px, 1px, 1px);height: 1px;margin: -1px;overflow: hidden;padding: 0;position: absolute;width: 1px;}#sk-container-id-2 div.sk-estimator {font-family: monospace;background-color: #f0f8ff;border: 1px dotted black;border-radius: 0.25em;box-sizing: border-box;margin-bottom: 0.5em;}#sk-container-id-2 div.sk-estimator:hover {background-color: #d4ebff;}#sk-container-id-2 div.sk-parallel-item::after {content: \"\";width: 100%;border-bottom: 1px solid gray;flex-grow: 1;}#sk-container-id-2 div.sk-label:hover label.sk-toggleable__label {background-color: #d4ebff;}#sk-container-id-2 div.sk-serial::before {content: \"\";position: absolute;border-left: 1px solid gray;box-sizing: border-box;top: 0;bottom: 0;left: 50%;z-index: 0;}#sk-container-id-2 div.sk-serial {display: flex;flex-direction: column;align-items: center;background-color: white;padding-right: 0.2em;padding-left: 0.2em;position: relative;}#sk-container-id-2 div.sk-item {position: relative;z-index: 1;}#sk-container-id-2 div.sk-parallel {display: flex;align-items: stretch;justify-content: center;background-color: white;position: relative;}#sk-container-id-2 div.sk-item::before, #sk-container-id-2 div.sk-parallel-item::before {content: \"\";position: absolute;border-left: 1px solid gray;box-sizing: border-box;top: 0;bottom: 0;left: 50%;z-index: -1;}#sk-container-id-2 div.sk-parallel-item {display: flex;flex-direction: column;z-index: 1;position: relative;background-color: white;}#sk-container-id-2 div.sk-parallel-item:first-child::after {align-self: flex-end;width: 50%;}#sk-container-id-2 div.sk-parallel-item:last-child::after {align-self: flex-start;width: 50%;}#sk-container-id-2 div.sk-parallel-item:only-child::after {width: 0;}#sk-container-id-2 div.sk-dashed-wrapped {border: 1px dashed gray;margin: 0 0.4em 0.5em 0.4em;box-sizing: border-box;padding-bottom: 0.4em;background-color: white;}#sk-container-id-2 div.sk-label label {font-family: monospace;font-weight: bold;display: inline-block;line-height: 1.2em;}#sk-container-id-2 div.sk-label-container {text-align: center;}#sk-container-id-2 div.sk-container {/* jupyter's `normalize.less` sets `[hidden] { display: none; }` but bootstrap.min.css set `[hidden] { display: none !important; }` so we also need the `!important` here to be able to override the default hidden behavior on the sphinx rendered scikit-learn.org. See: https://github.com/scikit-learn/scikit-learn/issues/21755 */display: inline-block !important;position: relative;}#sk-container-id-2 div.sk-text-repr-fallback {display: none;}</style><div id=\"sk-container-id-2\" class=\"sk-top-container\"><div class=\"sk-text-repr-fallback\"><pre>LogisticRegression()</pre><b>In a Jupyter environment, please rerun this cell to show the HTML representation or trust the notebook. <br />On GitHub, the HTML representation is unable to render, please try loading this page with nbviewer.org.</b></div><div class=\"sk-container\" hidden><div class=\"sk-item\"><div class=\"sk-estimator sk-toggleable\"><input class=\"sk-toggleable__control sk-hidden--visually\" id=\"sk-estimator-id-2\" type=\"checkbox\" checked><label for=\"sk-estimator-id-2\" class=\"sk-toggleable__label sk-toggleable__label-arrow\">LogisticRegression</label><div class=\"sk-toggleable__content\"><pre>LogisticRegression()</pre></div></div></div></div></div>"
            ]
          },
          "metadata": {},
          "execution_count": 33
        }
      ],
      "source": [
        "model2.fit(x_train,y_train)"
      ]
    },
    {
      "cell_type": "code",
      "execution_count": 34,
      "id": "bc30034d",
      "metadata": {
        "colab": {
          "base_uri": "https://localhost:8080/",
          "height": 75
        },
        "id": "bc30034d",
        "outputId": "71102bb3-c1b5-4a46-c005-2455cb8a49b5"
      },
      "outputs": [
        {
          "output_type": "execute_result",
          "data": {
            "text/plain": [
              "RandomForestRegressor(random_state=42)"
            ],
            "text/html": [
              "<style>#sk-container-id-3 {color: black;background-color: white;}#sk-container-id-3 pre{padding: 0;}#sk-container-id-3 div.sk-toggleable {background-color: white;}#sk-container-id-3 label.sk-toggleable__label {cursor: pointer;display: block;width: 100%;margin-bottom: 0;padding: 0.3em;box-sizing: border-box;text-align: center;}#sk-container-id-3 label.sk-toggleable__label-arrow:before {content: \"▸\";float: left;margin-right: 0.25em;color: #696969;}#sk-container-id-3 label.sk-toggleable__label-arrow:hover:before {color: black;}#sk-container-id-3 div.sk-estimator:hover label.sk-toggleable__label-arrow:before {color: black;}#sk-container-id-3 div.sk-toggleable__content {max-height: 0;max-width: 0;overflow: hidden;text-align: left;background-color: #f0f8ff;}#sk-container-id-3 div.sk-toggleable__content pre {margin: 0.2em;color: black;border-radius: 0.25em;background-color: #f0f8ff;}#sk-container-id-3 input.sk-toggleable__control:checked~div.sk-toggleable__content {max-height: 200px;max-width: 100%;overflow: auto;}#sk-container-id-3 input.sk-toggleable__control:checked~label.sk-toggleable__label-arrow:before {content: \"▾\";}#sk-container-id-3 div.sk-estimator input.sk-toggleable__control:checked~label.sk-toggleable__label {background-color: #d4ebff;}#sk-container-id-3 div.sk-label input.sk-toggleable__control:checked~label.sk-toggleable__label {background-color: #d4ebff;}#sk-container-id-3 input.sk-hidden--visually {border: 0;clip: rect(1px 1px 1px 1px);clip: rect(1px, 1px, 1px, 1px);height: 1px;margin: -1px;overflow: hidden;padding: 0;position: absolute;width: 1px;}#sk-container-id-3 div.sk-estimator {font-family: monospace;background-color: #f0f8ff;border: 1px dotted black;border-radius: 0.25em;box-sizing: border-box;margin-bottom: 0.5em;}#sk-container-id-3 div.sk-estimator:hover {background-color: #d4ebff;}#sk-container-id-3 div.sk-parallel-item::after {content: \"\";width: 100%;border-bottom: 1px solid gray;flex-grow: 1;}#sk-container-id-3 div.sk-label:hover label.sk-toggleable__label {background-color: #d4ebff;}#sk-container-id-3 div.sk-serial::before {content: \"\";position: absolute;border-left: 1px solid gray;box-sizing: border-box;top: 0;bottom: 0;left: 50%;z-index: 0;}#sk-container-id-3 div.sk-serial {display: flex;flex-direction: column;align-items: center;background-color: white;padding-right: 0.2em;padding-left: 0.2em;position: relative;}#sk-container-id-3 div.sk-item {position: relative;z-index: 1;}#sk-container-id-3 div.sk-parallel {display: flex;align-items: stretch;justify-content: center;background-color: white;position: relative;}#sk-container-id-3 div.sk-item::before, #sk-container-id-3 div.sk-parallel-item::before {content: \"\";position: absolute;border-left: 1px solid gray;box-sizing: border-box;top: 0;bottom: 0;left: 50%;z-index: -1;}#sk-container-id-3 div.sk-parallel-item {display: flex;flex-direction: column;z-index: 1;position: relative;background-color: white;}#sk-container-id-3 div.sk-parallel-item:first-child::after {align-self: flex-end;width: 50%;}#sk-container-id-3 div.sk-parallel-item:last-child::after {align-self: flex-start;width: 50%;}#sk-container-id-3 div.sk-parallel-item:only-child::after {width: 0;}#sk-container-id-3 div.sk-dashed-wrapped {border: 1px dashed gray;margin: 0 0.4em 0.5em 0.4em;box-sizing: border-box;padding-bottom: 0.4em;background-color: white;}#sk-container-id-3 div.sk-label label {font-family: monospace;font-weight: bold;display: inline-block;line-height: 1.2em;}#sk-container-id-3 div.sk-label-container {text-align: center;}#sk-container-id-3 div.sk-container {/* jupyter's `normalize.less` sets `[hidden] { display: none; }` but bootstrap.min.css set `[hidden] { display: none !important; }` so we also need the `!important` here to be able to override the default hidden behavior on the sphinx rendered scikit-learn.org. See: https://github.com/scikit-learn/scikit-learn/issues/21755 */display: inline-block !important;position: relative;}#sk-container-id-3 div.sk-text-repr-fallback {display: none;}</style><div id=\"sk-container-id-3\" class=\"sk-top-container\"><div class=\"sk-text-repr-fallback\"><pre>RandomForestRegressor(random_state=42)</pre><b>In a Jupyter environment, please rerun this cell to show the HTML representation or trust the notebook. <br />On GitHub, the HTML representation is unable to render, please try loading this page with nbviewer.org.</b></div><div class=\"sk-container\" hidden><div class=\"sk-item\"><div class=\"sk-estimator sk-toggleable\"><input class=\"sk-toggleable__control sk-hidden--visually\" id=\"sk-estimator-id-3\" type=\"checkbox\" checked><label for=\"sk-estimator-id-3\" class=\"sk-toggleable__label sk-toggleable__label-arrow\">RandomForestRegressor</label><div class=\"sk-toggleable__content\"><pre>RandomForestRegressor(random_state=42)</pre></div></div></div></div></div>"
            ]
          },
          "metadata": {},
          "execution_count": 34
        }
      ],
      "source": [
        "model3.fit(x_train,y_train)"
      ]
    },
    {
      "cell_type": "code",
      "execution_count": 35,
      "id": "44da593d",
      "metadata": {
        "colab": {
          "base_uri": "https://localhost:8080/",
          "height": 75
        },
        "id": "44da593d",
        "outputId": "f7a12df6-ba2d-45ff-b255-aa0fbaf0a590"
      },
      "outputs": [
        {
          "output_type": "execute_result",
          "data": {
            "text/plain": [
              "DecisionTreeClassifier(criterion='entropy', random_state=0)"
            ],
            "text/html": [
              "<style>#sk-container-id-4 {color: black;background-color: white;}#sk-container-id-4 pre{padding: 0;}#sk-container-id-4 div.sk-toggleable {background-color: white;}#sk-container-id-4 label.sk-toggleable__label {cursor: pointer;display: block;width: 100%;margin-bottom: 0;padding: 0.3em;box-sizing: border-box;text-align: center;}#sk-container-id-4 label.sk-toggleable__label-arrow:before {content: \"▸\";float: left;margin-right: 0.25em;color: #696969;}#sk-container-id-4 label.sk-toggleable__label-arrow:hover:before {color: black;}#sk-container-id-4 div.sk-estimator:hover label.sk-toggleable__label-arrow:before {color: black;}#sk-container-id-4 div.sk-toggleable__content {max-height: 0;max-width: 0;overflow: hidden;text-align: left;background-color: #f0f8ff;}#sk-container-id-4 div.sk-toggleable__content pre {margin: 0.2em;color: black;border-radius: 0.25em;background-color: #f0f8ff;}#sk-container-id-4 input.sk-toggleable__control:checked~div.sk-toggleable__content {max-height: 200px;max-width: 100%;overflow: auto;}#sk-container-id-4 input.sk-toggleable__control:checked~label.sk-toggleable__label-arrow:before {content: \"▾\";}#sk-container-id-4 div.sk-estimator input.sk-toggleable__control:checked~label.sk-toggleable__label {background-color: #d4ebff;}#sk-container-id-4 div.sk-label input.sk-toggleable__control:checked~label.sk-toggleable__label {background-color: #d4ebff;}#sk-container-id-4 input.sk-hidden--visually {border: 0;clip: rect(1px 1px 1px 1px);clip: rect(1px, 1px, 1px, 1px);height: 1px;margin: -1px;overflow: hidden;padding: 0;position: absolute;width: 1px;}#sk-container-id-4 div.sk-estimator {font-family: monospace;background-color: #f0f8ff;border: 1px dotted black;border-radius: 0.25em;box-sizing: border-box;margin-bottom: 0.5em;}#sk-container-id-4 div.sk-estimator:hover {background-color: #d4ebff;}#sk-container-id-4 div.sk-parallel-item::after {content: \"\";width: 100%;border-bottom: 1px solid gray;flex-grow: 1;}#sk-container-id-4 div.sk-label:hover label.sk-toggleable__label {background-color: #d4ebff;}#sk-container-id-4 div.sk-serial::before {content: \"\";position: absolute;border-left: 1px solid gray;box-sizing: border-box;top: 0;bottom: 0;left: 50%;z-index: 0;}#sk-container-id-4 div.sk-serial {display: flex;flex-direction: column;align-items: center;background-color: white;padding-right: 0.2em;padding-left: 0.2em;position: relative;}#sk-container-id-4 div.sk-item {position: relative;z-index: 1;}#sk-container-id-4 div.sk-parallel {display: flex;align-items: stretch;justify-content: center;background-color: white;position: relative;}#sk-container-id-4 div.sk-item::before, #sk-container-id-4 div.sk-parallel-item::before {content: \"\";position: absolute;border-left: 1px solid gray;box-sizing: border-box;top: 0;bottom: 0;left: 50%;z-index: -1;}#sk-container-id-4 div.sk-parallel-item {display: flex;flex-direction: column;z-index: 1;position: relative;background-color: white;}#sk-container-id-4 div.sk-parallel-item:first-child::after {align-self: flex-end;width: 50%;}#sk-container-id-4 div.sk-parallel-item:last-child::after {align-self: flex-start;width: 50%;}#sk-container-id-4 div.sk-parallel-item:only-child::after {width: 0;}#sk-container-id-4 div.sk-dashed-wrapped {border: 1px dashed gray;margin: 0 0.4em 0.5em 0.4em;box-sizing: border-box;padding-bottom: 0.4em;background-color: white;}#sk-container-id-4 div.sk-label label {font-family: monospace;font-weight: bold;display: inline-block;line-height: 1.2em;}#sk-container-id-4 div.sk-label-container {text-align: center;}#sk-container-id-4 div.sk-container {/* jupyter's `normalize.less` sets `[hidden] { display: none; }` but bootstrap.min.css set `[hidden] { display: none !important; }` so we also need the `!important` here to be able to override the default hidden behavior on the sphinx rendered scikit-learn.org. See: https://github.com/scikit-learn/scikit-learn/issues/21755 */display: inline-block !important;position: relative;}#sk-container-id-4 div.sk-text-repr-fallback {display: none;}</style><div id=\"sk-container-id-4\" class=\"sk-top-container\"><div class=\"sk-text-repr-fallback\"><pre>DecisionTreeClassifier(criterion=&#x27;entropy&#x27;, random_state=0)</pre><b>In a Jupyter environment, please rerun this cell to show the HTML representation or trust the notebook. <br />On GitHub, the HTML representation is unable to render, please try loading this page with nbviewer.org.</b></div><div class=\"sk-container\" hidden><div class=\"sk-item\"><div class=\"sk-estimator sk-toggleable\"><input class=\"sk-toggleable__control sk-hidden--visually\" id=\"sk-estimator-id-4\" type=\"checkbox\" checked><label for=\"sk-estimator-id-4\" class=\"sk-toggleable__label sk-toggleable__label-arrow\">DecisionTreeClassifier</label><div class=\"sk-toggleable__content\"><pre>DecisionTreeClassifier(criterion=&#x27;entropy&#x27;, random_state=0)</pre></div></div></div></div></div>"
            ]
          },
          "metadata": {},
          "execution_count": 35
        }
      ],
      "source": [
        "model4.fit(x_train,y_train)"
      ]
    },
    {
      "cell_type": "code",
      "execution_count": 36,
      "id": "4bfc14ed",
      "metadata": {
        "colab": {
          "base_uri": "https://localhost:8080/",
          "height": 75
        },
        "id": "4bfc14ed",
        "outputId": "4bee5e87-3b69-442a-ef82-298b950ad866"
      },
      "outputs": [
        {
          "output_type": "execute_result",
          "data": {
            "text/plain": [
              "SVR()"
            ],
            "text/html": [
              "<style>#sk-container-id-5 {color: black;background-color: white;}#sk-container-id-5 pre{padding: 0;}#sk-container-id-5 div.sk-toggleable {background-color: white;}#sk-container-id-5 label.sk-toggleable__label {cursor: pointer;display: block;width: 100%;margin-bottom: 0;padding: 0.3em;box-sizing: border-box;text-align: center;}#sk-container-id-5 label.sk-toggleable__label-arrow:before {content: \"▸\";float: left;margin-right: 0.25em;color: #696969;}#sk-container-id-5 label.sk-toggleable__label-arrow:hover:before {color: black;}#sk-container-id-5 div.sk-estimator:hover label.sk-toggleable__label-arrow:before {color: black;}#sk-container-id-5 div.sk-toggleable__content {max-height: 0;max-width: 0;overflow: hidden;text-align: left;background-color: #f0f8ff;}#sk-container-id-5 div.sk-toggleable__content pre {margin: 0.2em;color: black;border-radius: 0.25em;background-color: #f0f8ff;}#sk-container-id-5 input.sk-toggleable__control:checked~div.sk-toggleable__content {max-height: 200px;max-width: 100%;overflow: auto;}#sk-container-id-5 input.sk-toggleable__control:checked~label.sk-toggleable__label-arrow:before {content: \"▾\";}#sk-container-id-5 div.sk-estimator input.sk-toggleable__control:checked~label.sk-toggleable__label {background-color: #d4ebff;}#sk-container-id-5 div.sk-label input.sk-toggleable__control:checked~label.sk-toggleable__label {background-color: #d4ebff;}#sk-container-id-5 input.sk-hidden--visually {border: 0;clip: rect(1px 1px 1px 1px);clip: rect(1px, 1px, 1px, 1px);height: 1px;margin: -1px;overflow: hidden;padding: 0;position: absolute;width: 1px;}#sk-container-id-5 div.sk-estimator {font-family: monospace;background-color: #f0f8ff;border: 1px dotted black;border-radius: 0.25em;box-sizing: border-box;margin-bottom: 0.5em;}#sk-container-id-5 div.sk-estimator:hover {background-color: #d4ebff;}#sk-container-id-5 div.sk-parallel-item::after {content: \"\";width: 100%;border-bottom: 1px solid gray;flex-grow: 1;}#sk-container-id-5 div.sk-label:hover label.sk-toggleable__label {background-color: #d4ebff;}#sk-container-id-5 div.sk-serial::before {content: \"\";position: absolute;border-left: 1px solid gray;box-sizing: border-box;top: 0;bottom: 0;left: 50%;z-index: 0;}#sk-container-id-5 div.sk-serial {display: flex;flex-direction: column;align-items: center;background-color: white;padding-right: 0.2em;padding-left: 0.2em;position: relative;}#sk-container-id-5 div.sk-item {position: relative;z-index: 1;}#sk-container-id-5 div.sk-parallel {display: flex;align-items: stretch;justify-content: center;background-color: white;position: relative;}#sk-container-id-5 div.sk-item::before, #sk-container-id-5 div.sk-parallel-item::before {content: \"\";position: absolute;border-left: 1px solid gray;box-sizing: border-box;top: 0;bottom: 0;left: 50%;z-index: -1;}#sk-container-id-5 div.sk-parallel-item {display: flex;flex-direction: column;z-index: 1;position: relative;background-color: white;}#sk-container-id-5 div.sk-parallel-item:first-child::after {align-self: flex-end;width: 50%;}#sk-container-id-5 div.sk-parallel-item:last-child::after {align-self: flex-start;width: 50%;}#sk-container-id-5 div.sk-parallel-item:only-child::after {width: 0;}#sk-container-id-5 div.sk-dashed-wrapped {border: 1px dashed gray;margin: 0 0.4em 0.5em 0.4em;box-sizing: border-box;padding-bottom: 0.4em;background-color: white;}#sk-container-id-5 div.sk-label label {font-family: monospace;font-weight: bold;display: inline-block;line-height: 1.2em;}#sk-container-id-5 div.sk-label-container {text-align: center;}#sk-container-id-5 div.sk-container {/* jupyter's `normalize.less` sets `[hidden] { display: none; }` but bootstrap.min.css set `[hidden] { display: none !important; }` so we also need the `!important` here to be able to override the default hidden behavior on the sphinx rendered scikit-learn.org. See: https://github.com/scikit-learn/scikit-learn/issues/21755 */display: inline-block !important;position: relative;}#sk-container-id-5 div.sk-text-repr-fallback {display: none;}</style><div id=\"sk-container-id-5\" class=\"sk-top-container\"><div class=\"sk-text-repr-fallback\"><pre>SVR()</pre><b>In a Jupyter environment, please rerun this cell to show the HTML representation or trust the notebook. <br />On GitHub, the HTML representation is unable to render, please try loading this page with nbviewer.org.</b></div><div class=\"sk-container\" hidden><div class=\"sk-item\"><div class=\"sk-estimator sk-toggleable\"><input class=\"sk-toggleable__control sk-hidden--visually\" id=\"sk-estimator-id-5\" type=\"checkbox\" checked><label for=\"sk-estimator-id-5\" class=\"sk-toggleable__label sk-toggleable__label-arrow\">SVR</label><div class=\"sk-toggleable__content\"><pre>SVR()</pre></div></div></div></div></div>"
            ]
          },
          "metadata": {},
          "execution_count": 36
        }
      ],
      "source": [
        "model5.fit(x_train,y_train)"
      ]
    },
    {
      "cell_type": "markdown",
      "id": "0a045fe0",
      "metadata": {
        "id": "0a045fe0"
      },
      "source": [
        "### Testing the models"
      ]
    },
    {
      "cell_type": "code",
      "execution_count": 37,
      "id": "2847c7cb",
      "metadata": {
        "id": "2847c7cb"
      },
      "outputs": [],
      "source": [
        "y_pred1=model1.predict(x_test)"
      ]
    },
    {
      "cell_type": "code",
      "execution_count": 38,
      "id": "70f3e36b",
      "metadata": {
        "id": "70f3e36b"
      },
      "outputs": [],
      "source": [
        "y_pred2=model2.predict(x_test)"
      ]
    },
    {
      "cell_type": "code",
      "execution_count": 39,
      "id": "e33459ed",
      "metadata": {
        "id": "e33459ed"
      },
      "outputs": [],
      "source": [
        "y_pred3=model3.predict(x_test)"
      ]
    },
    {
      "cell_type": "code",
      "execution_count": 40,
      "id": "19d6acde",
      "metadata": {
        "id": "19d6acde"
      },
      "outputs": [],
      "source": [
        "y_pred4=model4.predict(x_test)"
      ]
    },
    {
      "cell_type": "code",
      "execution_count": 41,
      "id": "ff73acd4",
      "metadata": {
        "id": "ff73acd4"
      },
      "outputs": [],
      "source": [
        "y_pred5=model5.predict(x_test)"
      ]
    },
    {
      "cell_type": "code",
      "execution_count": 42,
      "id": "bb9cf5f9",
      "metadata": {
        "colab": {
          "base_uri": "https://localhost:8080/"
        },
        "id": "bb9cf5f9",
        "outputId": "f0bba9e8-5ccf-4418-f19b-1d1e11a3a5fd"
      },
      "outputs": [
        {
          "output_type": "execute_result",
          "data": {
            "text/plain": [
              "array([ 3651111.51615361,  4079537.61885261,  6176820.61585599,\n",
              "        4675112.2385528 ,  7788114.89515948,  6381314.4368112 ,\n",
              "        4484747.38197334,  4154633.27794423,  5002050.94330468,\n",
              "        3080791.19165212,  4460157.49495376,  3050807.20266285,\n",
              "        3250737.07494392,  4035612.08083958,  5650095.94606231,\n",
              "        3044601.15163584,  7463350.80968896,  5232814.84141006,\n",
              "        5490782.15086578,  5045502.69077322,  3049043.43860466,\n",
              "        2795061.41422494,  6314395.24402428,  5074627.82896872,\n",
              "        4905419.13476537,  4406395.56800222,  4014774.19343682,\n",
              "        4553141.14530063,  3179561.9789109 ,  3940368.82169718,\n",
              "        3296594.94045692,  4727818.50907908,  5943417.31424697,\n",
              "        5345695.74113438,  7146788.03806675,  4856835.84460529,\n",
              "        4699114.6480155 ,  2720983.32378085,  4327026.18538356,\n",
              "        5210399.57367183,  4317814.33015038,  5908255.50377982,\n",
              "        3386546.90742474,  5456646.1000548 ,  5562471.94354635,\n",
              "        6984622.76781207, 10974389.32980363,  5011925.42002089,\n",
              "        3352201.60338461,  5646673.8297507 ,  3598198.59440784,\n",
              "        5114473.67841259,  5060983.53235473,  4000127.54644657,\n",
              "        3444126.58763977,  5538666.33971513,  3268767.75046807,\n",
              "        4122429.55463323,  3461764.2282217 ,  4674905.58733331,\n",
              "        3967898.75927627,  3467055.52039628,  4428865.71216983,\n",
              "        3936841.2935808 ,  4873400.00848101,  4931931.50369691,\n",
              "        3197199.61949283,  2986565.50115727,  2890304.67336733,\n",
              "        7036648.59657437,  4139860.54399566,  7948554.48913368,\n",
              "        5424543.39984283,  4012058.61437776,  3355938.38473015,\n",
              "        3661694.10050277,  4422687.32701178,  5158608.06199798,\n",
              "        9827837.06385804,  4404198.07921444,  6192629.77036232,\n",
              "        6325891.55559659,  3610897.69562683,  3121982.29869587,\n",
              "        4953580.30852772,  3025368.3104375 ,  6564890.02241819,\n",
              "       11436286.04350521,  4839198.20402336,  2858556.92031987,\n",
              "        6003412.95809447,  4112302.94054761,  6140734.41726409,\n",
              "        5392924.33576335,  4372425.26230767,  3091373.77600128,\n",
              "        3665446.10011959,  5302321.95591734,  5480880.0082806 ,\n",
              "        5120261.22298129,  4229850.59874119,  3581634.43053211,\n",
              "        5477000.35132506,  4409857.34247193,  6538811.16190055,\n",
              "        4668737.62408401,  4706066.89445316,  3303025.46298437,\n",
              "        5228374.34113732])"
            ]
          },
          "metadata": {},
          "execution_count": 42
        }
      ],
      "source": [
        "y_pred1"
      ]
    },
    {
      "cell_type": "code",
      "execution_count": 43,
      "id": "41e4b285",
      "metadata": {
        "colab": {
          "base_uri": "https://localhost:8080/"
        },
        "id": "41e4b285",
        "outputId": "6e8059b2-1ecd-4d2e-a04d-15ab593d01d0"
      },
      "outputs": [
        {
          "output_type": "execute_result",
          "data": {
            "text/plain": [
              "array([4200000., 3780000., 4200000., 3500000., 8400000., 4200000.,\n",
              "       4900000., 4200000., 4200000., 3150000., 3500000., 3150000.,\n",
              "       4200000., 4900000., 4900000., 3150000., 6300000., 5600000.,\n",
              "       4200000., 5600000., 3150000., 2660000., 5600000., 4760000.,\n",
              "       3500000., 4900000., 4200000., 3780000., 3150000., 4200000.,\n",
              "       4200000., 4200000., 4480000., 5600000., 5250000., 3150000.,\n",
              "       3500000., 2660000., 4900000., 3150000., 4900000., 5600000.,\n",
              "       4200000., 5250000., 5250000., 7962500., 6790000., 4340000.,\n",
              "       3150000., 4200000., 4200000., 4900000., 5600000., 4200000.,\n",
              "       3150000., 4900000., 3290000., 4900000., 3150000., 4200000.,\n",
              "       3150000., 3150000., 4200000., 4200000., 4900000., 3500000.,\n",
              "       3150000., 3290000., 2660000., 7350000., 2660000., 5250000.,\n",
              "       4900000., 3150000., 3150000., 4200000., 4200000., 4900000.,\n",
              "       7210000., 3500000., 4900000., 5950000., 4200000., 3430000.,\n",
              "       4200000., 3290000., 5250000., 9681000., 3150000., 2660000.,\n",
              "       5250000., 4200000., 8400000., 5810000., 4200000., 3150000.,\n",
              "       3150000., 3500000., 4200000., 4200000., 3150000., 3150000.,\n",
              "       5250000., 3500000., 6650000., 4200000., 3150000., 3150000.,\n",
              "       5250000.])"
            ]
          },
          "metadata": {},
          "execution_count": 43
        }
      ],
      "source": [
        "y_pred2"
      ]
    },
    {
      "cell_type": "code",
      "execution_count": 44,
      "id": "78ef6341",
      "metadata": {
        "colab": {
          "base_uri": "https://localhost:8080/"
        },
        "id": "78ef6341",
        "outputId": "57b31844-7ebd-44a2-c34c-32fd02e11e4a"
      },
      "outputs": [
        {
          "output_type": "execute_result",
          "data": {
            "text/plain": [
              "array([ 3532340.        ,  4290300.        ,  5715780.        ,\n",
              "        4641560.        ,  7440664.44444444,  6792170.46666667,\n",
              "        3034850.        ,  4062991.33333333,  3670800.        ,\n",
              "        3005566.66666667,  5873342.33333333,  3623433.33333333,\n",
              "        3189526.66666667,  4647136.66666667,  6706840.        ,\n",
              "        3030440.        ,  7562450.        ,  5792523.33333333,\n",
              "        5080483.33333333,  5976518.33333333,  3457445.83333333,\n",
              "        2611700.        ,  5303480.        ,  4330900.        ,\n",
              "        4650030.        ,  5281640.        ,  4369890.        ,\n",
              "        4523925.        ,  3079069.58333333,  3919055.        ,\n",
              "        3397706.66666667,  4789190.        ,  4359250.        ,\n",
              "        5914300.        ,  6998740.        ,  4321520.        ,\n",
              "        4054855.        ,  3179610.        ,  5393780.        ,\n",
              "        6321000.        ,  4896360.        ,  4557367.5       ,\n",
              "        3685111.5       ,  5780926.66666667,  6244939.4       ,\n",
              "        6463975.        ,  6848975.        ,  5092896.66666667,\n",
              "        3526886.66666667,  4743620.        ,  4112925.41666667,\n",
              "        5738353.83333333,  4348155.        ,  3490375.        ,\n",
              "        3336573.33333333,  6426000.        ,  3779537.5       ,\n",
              "        4820900.        ,  3455946.66666667,  4326945.        ,\n",
              "        3963386.66666667,  3399526.66666667,  4472990.66666667,\n",
              "        3873817.5       ,  5103945.        ,  5480790.        ,\n",
              "        3653889.5       ,  3643780.        ,  2671923.33333333,\n",
              "        7360775.5       ,  4200904.16666667,  6829865.        ,\n",
              "        5566423.33333333,  3169530.        ,  3424621.66666667,\n",
              "        3215625.        ,  3750390.        ,  7247100.        ,\n",
              "        7790370.        ,  4580472.5       ,  5423600.        ,\n",
              "        7700006.66666667,  4017287.91666667,  2468095.        ,\n",
              "        3793230.        ,  2654680.        ,  5365080.        ,\n",
              "        7899080.        ,  4329920.        ,  2949730.        ,\n",
              "        7030590.        ,  4140425.33333333, 10062990.        ,\n",
              "        5449500.        ,  3717513.33333333,  3334275.        ,\n",
              "        3505250.        ,  5404000.        ,  4802840.        ,\n",
              "        4785620.        ,  4254945.83333333,  3100370.        ,\n",
              "        5161870.        ,  4344200.        ,  6286291.66666667,\n",
              "        5129425.        ,  4030530.        ,  3253912.66666667,\n",
              "        5140905.        ])"
            ]
          },
          "metadata": {},
          "execution_count": 44
        }
      ],
      "source": [
        "y_pred3"
      ]
    },
    {
      "cell_type": "code",
      "execution_count": 45,
      "id": "8fb1da4d",
      "metadata": {
        "colab": {
          "base_uri": "https://localhost:8080/"
        },
        "id": "8fb1da4d",
        "outputId": "b1ce5fdc-a491-45db-ab22-6acf01d59dbd"
      },
      "outputs": [
        {
          "output_type": "execute_result",
          "data": {
            "text/plain": [
              "array([ 3570000.,  3325000.,  4970000.,  4900000.,  9100000.,  8043000.,\n",
              "        4970000.,  3500000.,  2800000.,  4095000.,  6629000.,  3675000.,\n",
              "        3430000.,  5250000.,  8400000.,  3220000.,  3150000.,  5110000.,\n",
              "        3990000.,  5250000.,  3675000.,  3010000.,  6615000.,  8855000.,\n",
              "        4900000.,  2730000.,  3535000.,  7875000.,  2695000.,  4410000.,\n",
              "        3332000.,  2485000.,  3773000.,  6650000.,  3150000.,  5803000.,\n",
              "        3675000.,  3220000.,  5950000.,  3010000.,  4620000.,  2940000.,\n",
              "        4200000.,  5383000.,  5523000.,  6090000.,  9800000.,  2485000.,\n",
              "        2450000.,  3500000.,  2485000.,  4900000.,  4382000.,  3570000.,\n",
              "        3010000.,  6020000.,  3710000.,  2870000.,  3010000.,  3780000.,\n",
              "        7455000.,  3010000.,  5145000.,  4410000.,  4235000.,  6300000.,\n",
              "        3990000.,  4235000.,  2520000.,  5873000.,  2450000.,  6615000.,\n",
              "        8043000.,  5950000.,  3255000.,  3570000.,  3332000.,  8645000.,\n",
              "        7980000.,  5740000.,  3150000.,  9800000.,  3465000.,  1890000.,\n",
              "        4550000.,  2520000.,  4900000.,  7980000.,  5803000.,  2870000.,\n",
              "        4480000.,  4473000., 11410000.,  5600000.,  2450000.,  3360000.,\n",
              "        2590000.,  5320000.,  3570000.,  4550000.,  6629000.,  3430000.,\n",
              "        5250000.,  5866000.,  6685000.,  4165000.,  3500000.,  2835000.,\n",
              "        2233000.])"
            ]
          },
          "metadata": {},
          "execution_count": 45
        }
      ],
      "source": [
        "y_pred4"
      ]
    },
    {
      "cell_type": "code",
      "execution_count": 46,
      "id": "01ffeb9e",
      "metadata": {
        "colab": {
          "base_uri": "https://localhost:8080/"
        },
        "id": "01ffeb9e",
        "outputId": "0af7b401-628b-4753-b020-61681486917b"
      },
      "outputs": [
        {
          "output_type": "execute_result",
          "data": {
            "text/plain": [
              "array([4339963.74904185, 4339968.7780853 , 4340034.83982371,\n",
              "       4340003.46479983, 4340037.49667552, 4340038.49256881,\n",
              "       4339985.26300725, 4339979.74940705, 4340010.23557542,\n",
              "       4339942.01690805, 4339991.61307292, 4339941.8067364 ,\n",
              "       4339963.0647234 , 4339970.67264414, 4340023.87213431,\n",
              "       4339953.46015226, 4340039.25439691, 4340014.4792232 ,\n",
              "       4340023.70870434, 4340011.72633734, 4339941.79579233,\n",
              "       4339941.87384838, 4340023.04363024, 4340010.53571791,\n",
              "       4340011.51051057, 4339988.72451209, 4339995.06509423,\n",
              "       4339980.25796605, 4339943.0280757 , 4339968.44028752,\n",
              "       4339962.80041089, 4340002.81012523, 4340022.8948581 ,\n",
              "       4340016.71020428, 4340041.31645419, 4340001.78184421,\n",
              "       4340008.11879349, 4339942.50664956, 4339985.77510085,\n",
              "       4340006.57053358, 4339978.82559088, 4340025.63190806,\n",
              "       4339962.53283058, 4340016.47988929, 4340018.25822272,\n",
              "       4340023.36041908, 4340013.76148337, 4340017.80778657,\n",
              "       4339953.13120231, 4340022.9506046 , 4339963.26408602,\n",
              "       4340007.3292085 , 4340014.26511728, 4339977.23669348,\n",
              "       4339948.00814499, 4340024.04930569, 4339954.44324758,\n",
              "       4339978.09683874, 4339948.44787941, 4340002.03270509,\n",
              "       4339984.66886416, 4339948.58219706, 4340001.03552416,\n",
              "       4339968.36361421, 4339997.79608323, 4340013.21463549,\n",
              "       4339943.25931101, 4339952.83276972, 4339941.46052289,\n",
              "       4340043.02377346, 4339985.64795011, 4340036.49449332,\n",
              "       4340016.28426772, 4339966.87832464, 4339946.00126637,\n",
              "       4339963.86041196, 4339999.18247421, 4340013.79595389,\n",
              "       4340022.93713085, 4339997.42002322, 4340030.23790303,\n",
              "       4340042.00231938, 4339963.36950717, 4339964.24530004,\n",
              "       4340006.73542843, 4339952.83093247, 4340020.06832066,\n",
              "       4340014.08970443, 4340001.39513166, 4339941.54755155,\n",
              "       4340023.69093715, 4339978.97811543, 4340031.86415908,\n",
              "       4340023.11695337, 4340000.29824374, 4339942.10193428,\n",
              "       4339957.14198511, 4340020.46129542, 4340020.25715918,\n",
              "       4340013.69135282, 4339973.12073139, 4339981.69219173,\n",
              "       4340016.7276152 , 4340001.92258746, 4340039.84144945,\n",
              "       4340004.80080469, 4339990.12233832, 4339944.9584116 ,\n",
              "       4340020.21964677])"
            ]
          },
          "metadata": {},
          "execution_count": 46
        }
      ],
      "source": [
        "y_pred5"
      ]
    },
    {
      "cell_type": "markdown",
      "id": "f0c50bb4",
      "metadata": {
        "id": "f0c50bb4"
      },
      "source": [
        "### Measuring the performance using metrics"
      ]
    },
    {
      "cell_type": "code",
      "execution_count": 47,
      "id": "7df50e72",
      "metadata": {
        "id": "7df50e72"
      },
      "outputs": [],
      "source": [
        "from sklearn.metrics import classification_report\n",
        "from sklearn.metrics import r2_score, mean_squared_error,accuracy_score, precision_score, recall_score"
      ]
    },
    {
      "cell_type": "code",
      "execution_count": 50,
      "id": "2a477406",
      "metadata": {
        "colab": {
          "base_uri": "https://localhost:8080/"
        },
        "id": "2a477406",
        "outputId": "12d0d350-797e-4848-de08-679f3f196d60"
      },
      "outputs": [
        {
          "output_type": "stream",
          "name": "stdout",
          "text": [
            "Linear Regression mse= 1007650078767.6519\n",
            "Linear Regression rmse= 1003817.751769539\n",
            "Linear Regression R2Score= 0.6416199512557832\n"
          ]
        }
      ],
      "source": [
        "mse1=mean_squared_error(y_test,y_pred1)\n",
        "rmse1=np.sqrt(mse1)\n",
        "r2=r2_score(y_test,y_pred1)\n",
        "print(\"Linear Regression mse=\",mse1)\n",
        "print('Linear Regression rmse=',rmse1)\n",
        "print(\"Linear Regression R2Score=\",r2)"
      ]
    },
    {
      "cell_type": "code",
      "execution_count": null,
      "id": "8750c076",
      "metadata": {
        "id": "8750c076"
      },
      "outputs": [],
      "source": []
    },
    {
      "cell_type": "code",
      "execution_count": 51,
      "id": "59ba0c62",
      "metadata": {
        "colab": {
          "base_uri": "https://localhost:8080/"
        },
        "id": "59ba0c62",
        "outputId": "bd74851a-e96c-4691-cbcb-7bc9a04b84bd"
      },
      "outputs": [
        {
          "output_type": "stream",
          "name": "stdout",
          "text": [
            "Linear Regression mse= 1770055995412.844\n",
            "Linear Regression rmse= 1330434.513763396\n",
            "Linear Regression R2Score= 0.3704632517948526\n"
          ]
        }
      ],
      "source": [
        "mse2=mean_squared_error(y_test,y_pred2)\n",
        "rmse2=np.sqrt(mse2)\n",
        "r2=r2_score(y_test,y_pred2)\n",
        "print(\"Linear Regression mse=\",mse2)\n",
        "print('Linear Regression rmse=',rmse2)\n",
        "print(\"Linear Regression R2Score=\",r2)"
      ]
    },
    {
      "cell_type": "code",
      "source": [
        "mse1=mean_squared_error(y_test,y_pred3)\n",
        "rmse1=np.sqrt(mse1)\n",
        "r2=r2_score(y_test,y_pred3)\n",
        "print(\"Linear Regression mse=\",mse1)\n",
        "print('Linear Regression rmse=',rmse1)\n",
        "print(\"Linear Regression R2Score=\",r2)"
      ],
      "metadata": {
        "colab": {
          "base_uri": "https://localhost:8080/"
        },
        "id": "IHtPv30QtlbP",
        "outputId": "66427ae5-94a4-4815-d30f-9b3c04af2469"
      },
      "id": "IHtPv30QtlbP",
      "execution_count": 52,
      "outputs": [
        {
          "output_type": "stream",
          "name": "stdout",
          "text": [
            "Linear Regression mse= 1628492595521.6956\n",
            "Linear Regression rmse= 1276124.051776196\n",
            "Linear Regression R2Score= 0.42081158126199614\n"
          ]
        }
      ]
    },
    {
      "cell_type": "code",
      "source": [],
      "metadata": {
        "id": "pV0je9_Ytuur"
      },
      "id": "pV0je9_Ytuur",
      "execution_count": null,
      "outputs": []
    },
    {
      "cell_type": "code",
      "source": [
        "mse1=mean_squared_error(y_test,y_pred4)\n",
        "rmse1=np.sqrt(mse1)\n",
        "r2=r2_score(y_test,y_pred4)\n",
        "print(\"Linear Regression mse=\",mse1)\n",
        "print('Linear Regression rmse=',rmse1)\n",
        "print(\"Linear Regression R2Score=\",r2)"
      ],
      "metadata": {
        "colab": {
          "base_uri": "https://localhost:8080/"
        },
        "id": "L69gVZwYtv3_",
        "outputId": "6272db8a-36a6-4534-f011-fc9fdec895d3"
      },
      "id": "L69gVZwYtv3_",
      "execution_count": 53,
      "outputs": [
        {
          "output_type": "stream",
          "name": "stdout",
          "text": [
            "Linear Regression mse= 3613073103211.0093\n",
            "Linear Regression rmse= 1900808.5393355663\n",
            "Linear Regression R2Score= -0.28502278928889213\n"
          ]
        }
      ]
    },
    {
      "cell_type": "code",
      "source": [],
      "metadata": {
        "id": "-DC8Wccmt0fF"
      },
      "id": "-DC8Wccmt0fF",
      "execution_count": null,
      "outputs": []
    },
    {
      "cell_type": "code",
      "source": [
        "mse1=mean_squared_error(y_test,y_pred5)\n",
        "rmse1=np.sqrt(mse1)\n",
        "r2=r2_score(y_test,y_pred5)\n",
        "print(\"Linear Regression mse=\",mse1)\n",
        "print('Linear Regression rmse=',rmse1)\n",
        "print(\"Linear Regression R2Score=\",r2)"
      ],
      "metadata": {
        "colab": {
          "base_uri": "https://localhost:8080/"
        },
        "id": "UOL1nkOht2Bj",
        "outputId": "6c76e867-eea5-4bef-e75c-fb0ae94d8b2b"
      },
      "id": "UOL1nkOht2Bj",
      "execution_count": 54,
      "outputs": [
        {
          "output_type": "stream",
          "name": "stdout",
          "text": [
            "Linear Regression mse= 2882158660430.241\n",
            "Linear Regression rmse= 1697692.157144587\n",
            "Linear Regression R2Score= -0.025066323099775856\n"
          ]
        }
      ]
    },
    {
      "cell_type": "code",
      "source": [],
      "metadata": {
        "id": "WXKT9H7mt6pn"
      },
      "id": "WXKT9H7mt6pn",
      "execution_count": null,
      "outputs": []
    }
  ],
  "metadata": {
    "kernelspec": {
      "display_name": "Python 3 (ipykernel)",
      "language": "python",
      "name": "python3"
    },
    "language_info": {
      "codemirror_mode": {
        "name": "ipython",
        "version": 3
      },
      "file_extension": ".py",
      "mimetype": "text/x-python",
      "name": "python",
      "nbconvert_exporter": "python",
      "pygments_lexer": "ipython3",
      "version": "3.9.12"
    },
    "colab": {
      "provenance": []
    }
  },
  "nbformat": 4,
  "nbformat_minor": 5
}